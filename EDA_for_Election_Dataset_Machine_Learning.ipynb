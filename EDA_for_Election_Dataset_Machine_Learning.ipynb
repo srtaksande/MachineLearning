{
  "cells": [
    {
      "cell_type": "markdown",
      "metadata": {
        "id": "view-in-github",
        "colab_type": "text"
      },
      "source": [
        "<a href=\"https://colab.research.google.com/github/srtaksande/MachineLearning/blob/main/EDA_for_Election_Dataset_Machine_Learning.ipynb\" target=\"_parent\"><img src=\"https://colab.research.google.com/assets/colab-badge.svg\" alt=\"Open In Colab\"/></a>"
      ]
    },
    {
      "cell_type": "markdown",
      "metadata": {
        "id": "6nP3wmDItXyz"
      },
      "source": [
        "## Submitted by: Taksande Sandeep Ravindra\n"
      ]
    },
    {
      "cell_type": "markdown",
      "metadata": {
        "id": "tnMY5YFttXy2"
      },
      "source": [
        "## Importing Files"
      ]
    },
    {
      "cell_type": "code",
      "execution_count": null,
      "metadata": {
        "id": "bk2GbGRjtXy4",
        "outputId": "f13b9aef-a5af-4e52-ac07-eb587b3cef75"
      },
      "outputs": [
        {
          "data": {
            "text/html": [
              "<div>\n",
              "<style scoped>\n",
              "    .dataframe tbody tr th:only-of-type {\n",
              "        vertical-align: middle;\n",
              "    }\n",
              "\n",
              "    .dataframe tbody tr th {\n",
              "        vertical-align: top;\n",
              "    }\n",
              "\n",
              "    .dataframe thead th {\n",
              "        text-align: right;\n",
              "    }\n",
              "</style>\n",
              "<table border=\"1\" class=\"dataframe\">\n",
              "  <thead>\n",
              "    <tr style=\"text-align: right;\">\n",
              "      <th></th>\n",
              "      <th>ST_CODE</th>\n",
              "      <th>State name</th>\n",
              "      <th>Month</th>\n",
              "      <th>Year</th>\n",
              "      <th>PC Number</th>\n",
              "      <th>PC name</th>\n",
              "      <th>PC Type</th>\n",
              "      <th>Candidate Name</th>\n",
              "      <th>Candidate Sex</th>\n",
              "      <th>Candidate Category</th>\n",
              "      <th>Candidate Age</th>\n",
              "      <th>Party Abbreviation</th>\n",
              "      <th>Total Votes Polled</th>\n",
              "      <th>Position</th>\n",
              "    </tr>\n",
              "  </thead>\n",
              "  <tbody>\n",
              "    <tr>\n",
              "      <th>0</th>\n",
              "      <td>S01</td>\n",
              "      <td>Andhra Pradesh</td>\n",
              "      <td>5</td>\n",
              "      <td>2014</td>\n",
              "      <td>1</td>\n",
              "      <td>Adilabad</td>\n",
              "      <td>ST</td>\n",
              "      <td>GODAM NAGESH</td>\n",
              "      <td>M</td>\n",
              "      <td>ST</td>\n",
              "      <td>49.0</td>\n",
              "      <td>TRS</td>\n",
              "      <td>430847</td>\n",
              "      <td>1</td>\n",
              "    </tr>\n",
              "    <tr>\n",
              "      <th>1</th>\n",
              "      <td>S01</td>\n",
              "      <td>Andhra Pradesh</td>\n",
              "      <td>5</td>\n",
              "      <td>2014</td>\n",
              "      <td>1</td>\n",
              "      <td>Adilabad</td>\n",
              "      <td>ST</td>\n",
              "      <td>NARESH</td>\n",
              "      <td>M</td>\n",
              "      <td>ST</td>\n",
              "      <td>37.0</td>\n",
              "      <td>INC</td>\n",
              "      <td>259557</td>\n",
              "      <td>2</td>\n",
              "    </tr>\n",
              "    <tr>\n",
              "      <th>2</th>\n",
              "      <td>S01</td>\n",
              "      <td>Andhra Pradesh</td>\n",
              "      <td>5</td>\n",
              "      <td>2014</td>\n",
              "      <td>1</td>\n",
              "      <td>Adilabad</td>\n",
              "      <td>ST</td>\n",
              "      <td>RAMESH RATHOD</td>\n",
              "      <td>M</td>\n",
              "      <td>ST</td>\n",
              "      <td>48.0</td>\n",
              "      <td>TDP</td>\n",
              "      <td>184198</td>\n",
              "      <td>3</td>\n",
              "    </tr>\n",
              "    <tr>\n",
              "      <th>3</th>\n",
              "      <td>S01</td>\n",
              "      <td>Andhra Pradesh</td>\n",
              "      <td>5</td>\n",
              "      <td>2014</td>\n",
              "      <td>1</td>\n",
              "      <td>Adilabad</td>\n",
              "      <td>ST</td>\n",
              "      <td>RATHOD SADASHIV</td>\n",
              "      <td>M</td>\n",
              "      <td>ST</td>\n",
              "      <td>55.0</td>\n",
              "      <td>BSP</td>\n",
              "      <td>94420</td>\n",
              "      <td>4</td>\n",
              "    </tr>\n",
              "    <tr>\n",
              "      <th>4</th>\n",
              "      <td>S01</td>\n",
              "      <td>Andhra Pradesh</td>\n",
              "      <td>5</td>\n",
              "      <td>2014</td>\n",
              "      <td>1</td>\n",
              "      <td>Adilabad</td>\n",
              "      <td>ST</td>\n",
              "      <td>NETHAWATH RAMDAS</td>\n",
              "      <td>M</td>\n",
              "      <td>ST</td>\n",
              "      <td>44.0</td>\n",
              "      <td>IND</td>\n",
              "      <td>41032</td>\n",
              "      <td>5</td>\n",
              "    </tr>\n",
              "  </tbody>\n",
              "</table>\n",
              "</div>"
            ],
            "text/plain": [
              "  ST_CODE      State name  Month  Year  PC Number    PC name PC Type  \\\n",
              "0     S01  Andhra Pradesh      5  2014          1  Adilabad       ST   \n",
              "1     S01  Andhra Pradesh      5  2014          1  Adilabad       ST   \n",
              "2     S01  Andhra Pradesh      5  2014          1  Adilabad       ST   \n",
              "3     S01  Andhra Pradesh      5  2014          1  Adilabad       ST   \n",
              "4     S01  Andhra Pradesh      5  2014          1  Adilabad       ST   \n",
              "\n",
              "     Candidate Name Candidate Sex Candidate Category  Candidate Age  \\\n",
              "0      GODAM NAGESH             M                 ST           49.0   \n",
              "1            NARESH             M                 ST           37.0   \n",
              "2     RAMESH RATHOD             M                 ST           48.0   \n",
              "3   RATHOD SADASHIV             M                 ST           55.0   \n",
              "4  NETHAWATH RAMDAS             M                 ST           44.0   \n",
              "\n",
              "  Party Abbreviation  Total Votes Polled  Position  \n",
              "0                TRS              430847         1  \n",
              "1                INC              259557         2  \n",
              "2                TDP              184198         3  \n",
              "3                BSP               94420         4  \n",
              "4                IND               41032         5  "
            ]
          },
          "execution_count": 2,
          "metadata": {},
          "output_type": "execute_result"
        }
      ],
      "source": [
        "import pandas as pd\n",
        "import numpy as np\n",
        "import matplotlib.pyplot as plt\n",
        "df = pd.read_csv(\"C:/Users/Sandeep/OneDrive/Desktop/Extra/candidate.csv\")\n",
        "df.head()"
      ]
    },
    {
      "cell_type": "markdown",
      "metadata": {
        "id": "bNtztTmHtXy6"
      },
      "source": [
        "## Changing Column Names"
      ]
    },
    {
      "cell_type": "code",
      "execution_count": null,
      "metadata": {
        "id": "wIoW75LttXy7",
        "outputId": "42a75b51-77bb-4362-94a9-7adf78a5cb5d"
      },
      "outputs": [
        {
          "data": {
            "text/plain": [
              "Index(['st_code', 'state_name', 'month', 'year', 'pc_number', 'pc_name',\n",
              "       'pc_type', 'candidate_name', 'candidate_sex', 'candidate_category',\n",
              "       'candidate_age', 'party_abbreviation', 'total_votes_polled',\n",
              "       'position'],\n",
              "      dtype='object')"
            ]
          },
          "execution_count": 3,
          "metadata": {},
          "output_type": "execute_result"
        }
      ],
      "source": [
        "df.columns = df.columns.str.strip().str.lower().str.replace(\" \",\"_\")\n",
        "df.columns"
      ]
    },
    {
      "cell_type": "markdown",
      "metadata": {
        "id": "I7xr9AzUtXy8"
      },
      "source": [
        "### Elections are the means by which citizens can express their political views. They express their views by voting for a political leader in a public election. Furthermore, this political figure would be in a position of power and responsibility. Election, in particular, is a formal collective decision-making process. In addition, the chosen political leader would be a public figure.\n",
        "### The election is unquestionably an important aspect of democracy. This is due to the fact that elections assure that the government is of, by, and for the people.\n"
      ]
    },
    {
      "cell_type": "markdown",
      "metadata": {
        "id": "rCTcz5tttXy8"
      },
      "source": [
        "## Total Number of Votes and votes Not Applicable"
      ]
    },
    {
      "cell_type": "code",
      "execution_count": null,
      "metadata": {
        "scrolled": false,
        "id": "SYNcqsuRtXy-",
        "outputId": "17536b78-be88-402b-feef-952653c05798"
      },
      "outputs": [
        {
          "name": "stdout",
          "output_type": "stream",
          "text": [
            "Total Votes: 553802946 \n",
            "\n",
            "Total Votes NOT APPLICABLE: 8794\n"
          ]
        },
        {
          "name": "stderr",
          "output_type": "stream",
          "text": [
            "C:\\Users\\Sandeep\\anaconda3\\lib\\site-packages\\pandas\\core\\ops\\array_ops.py:253: FutureWarning: elementwise comparison failed; returning scalar instead, but in the future will perform elementwise comparison\n",
            "  res_values = method(rvalues)\n"
          ]
        }
      ],
      "source": [
        "print(\"Total Votes:\", sum(df.total_votes_polled),'\\n')\n",
        "print(\"Total Votes NOT APPLICABLE:\", len(df.total_votes_polled == 'NA'))"
      ]
    },
    {
      "cell_type": "markdown",
      "metadata": {
        "id": "0yaw9mKDtXzA"
      },
      "source": [
        "### It can be observed that the total votes polled are 553802946 out of which 8794 votes are Not Applicable"
      ]
    },
    {
      "cell_type": "markdown",
      "metadata": {
        "id": "5HP6bMIQtXzB"
      },
      "source": [
        "## Percentage of Female, Male and Other Candidates"
      ]
    },
    {
      "cell_type": "code",
      "execution_count": null,
      "metadata": {
        "scrolled": true,
        "id": "HQeOrhhztXzB",
        "outputId": "bb1f1bbd-deb8-42ec-aca8-3c5485839e7b"
      },
      "outputs": [
        {
          "name": "stdout",
          "output_type": "stream",
          "text": [
            "Percentage of Female Candidates: 7.59608824198317 \n",
            "\n",
            "Percentage of Male Candidates: 86.17239026609052 \n",
            "\n",
            "Percentage of Other Candidates: 0.06822833750284285\n"
          ]
        }
      ],
      "source": [
        "print(\"Percentage of Female Candidates:\",len(df[df.candidate_sex == 'F'])*100/len(df),'\\n')\n",
        "print(\"Percentage of Male Candidates:\",len(df[df.candidate_sex == 'M'])*100/len(df),'\\n')\n",
        "print(\"Percentage of Other Candidates:\",len(df[df.candidate_sex == 'O'])*100/len(df))"
      ]
    },
    {
      "cell_type": "markdown",
      "metadata": {
        "id": "qJDGsk_9tXzC"
      },
      "source": [
        "### The percentage of Male Candidates are observed to be maximum i.e. 86.17239026609052 %"
      ]
    },
    {
      "cell_type": "markdown",
      "metadata": {
        "id": "9h-nFVXGtXzC"
      },
      "source": [
        "## Percentage of SC, ST and General Category Candidates"
      ]
    },
    {
      "cell_type": "code",
      "execution_count": null,
      "metadata": {
        "scrolled": false,
        "id": "Gy1gAeHPtXzD",
        "outputId": "ccbd194d-7b39-4b3f-8311-6ed49e548902"
      },
      "outputs": [
        {
          "name": "stdout",
          "output_type": "stream",
          "text": [
            "Percentage of SC Category Candidates: 23.857175346827383 \n",
            "\n",
            "Percentage of ST Category Candidates: 7.061632931544235 \n",
            "\n",
            "Percentage of General Category Candidates: 62.90652717762111\n"
          ]
        }
      ],
      "source": [
        "print(\"Percentage of SC Category Candidates:\",len(df[df.candidate_category == 'SC'])*100/len(df),'\\n')\n",
        "print(\"Percentage of ST Category Candidates:\",len(df[df.candidate_category == 'ST'])*100/len(df),'\\n')\n",
        "print(\"Percentage of General Category Candidates:\",len(df[df.candidate_category == 'GEN'])*100/len(df))\n",
        "# print(\"Percentage of NULL Category Candidates:\",len(df[df.candidate_category == 'NULL'])*100/len(df),'\\n')"
      ]
    },
    {
      "cell_type": "code",
      "execution_count": null,
      "metadata": {
        "id": "b5u63vyNtXzE",
        "outputId": "4aa359c4-6c88-4eb1-b7f0-e93c48db3861"
      },
      "outputs": [
        {
          "data": {
            "text/plain": [
              "Text(0.5, 1.0, 'Category Count')"
            ]
          },
          "execution_count": 7,
          "metadata": {},
          "output_type": "execute_result"
        },
        {
          "data": {
            "image/png": "[encoded data removed]",
            "text/plain": [
              "<Figure size 1440x720 with 1 Axes>"
            ]
          },
          "metadata": {
            "needs_background": "light"
          },
          "output_type": "display_data"
        }
      ],
      "source": [
        "category = df.pc_type.value_counts()\n",
        "#print('Category Count: \\n',category)\n",
        "category.plot(kind='bar',figsize=(20,10), color=['green','red','blue'])\n",
        "plt.title('Category Count')"
      ]
    },
    {
      "cell_type": "markdown",
      "metadata": {
        "id": "iz9Ak3xatXzE"
      },
      "source": [
        "### The percentage of SC, ST and General Categories are observed to be 23.85%, 7.06% and 62.92% respectively"
      ]
    },
    {
      "cell_type": "markdown",
      "metadata": {
        "id": "GYEAsg2FtXzF"
      },
      "source": [
        "## Count and Percentage of Independent, INC and BJP members"
      ]
    },
    {
      "cell_type": "code",
      "execution_count": null,
      "metadata": {
        "scrolled": true,
        "id": "SW4QGbpItXzF",
        "outputId": "ea9a23b0-fc34-40c1-bb3c-b4576582a22b"
      },
      "outputs": [
        {
          "name": "stdout",
          "output_type": "stream",
          "text": [
            "Count of Independent Members : 3234 \n",
            "\n",
            "Percentage of Independent Candidates: 36.7750739140323 \n",
            "\n",
            "Count of Members belonging to INC Party: 464 \n",
            "\n",
            "Percentage of INC Candidates: 5.276324766886513 \n",
            "\n",
            "Count of Members belonging to BJP Party: 428 \n",
            "\n",
            "Percentage of BJP Candidates: 4.866954741869456\n"
          ]
        }
      ],
      "source": [
        "print(\"Count of Independent Members :\", sum(df.party_abbreviation == 'IND'),'\\n')\n",
        "print(\"Percentage of Independent Candidates:\",len(df[df.party_abbreviation == 'IND'])*100/len(df),'\\n')\n",
        "print(\"Count of Members belonging to INC Party:\", sum(df.party_abbreviation == 'INC'),'\\n')\n",
        "print(\"Percentage of INC Candidates:\",len(df[df.party_abbreviation == 'INC'])*100/len(df),'\\n')\n",
        "print(\"Count of Members belonging to BJP Party:\", sum(df.party_abbreviation == 'BJP'),'\\n')\n",
        "print(\"Percentage of BJP Candidates:\",len(df[df.party_abbreviation == 'BJP'])*100/len(df))"
      ]
    },
    {
      "cell_type": "markdown",
      "metadata": {
        "id": "ixznZgV8tXzF"
      },
      "source": [
        "### The percentage of Independent candidates is found to be maximum followed by members belonging to INC and BJP\n",
        "\n",
        "###### *Assuming INC and BJP to be bigger parties, other parties have not been considered"
      ]
    },
    {
      "cell_type": "code",
      "execution_count": null,
      "metadata": {
        "scrolled": true,
        "id": "w_HIa2TutXzG",
        "outputId": "abaa076c-d374-4d6e-db05-fb00e88aa6c1"
      },
      "outputs": [
        {
          "data": {
            "text/plain": [
              "0"
            ]
          },
          "execution_count": 9,
          "metadata": {},
          "output_type": "execute_result"
        }
      ],
      "source": [
        "#print(df.groupby([\"party_abbreviation\"])[['position']].count())\n",
        "df[(df.party_abbreviation=='IND')&(df.position == \"1\")].count().sum()"
      ]
    },
    {
      "cell_type": "markdown",
      "metadata": {
        "id": "i3wAY1VmtXzG"
      },
      "source": [
        "### Even though the percentage of Inependent Candidates are maximum, they were unable to get the First Position in any of the Constituencies"
      ]
    },
    {
      "cell_type": "markdown",
      "metadata": {
        "id": "T7QIdPsHtXzG"
      },
      "source": [
        "## Group by State Name and Category"
      ]
    },
    {
      "cell_type": "code",
      "execution_count": null,
      "metadata": {
        "scrolled": false,
        "id": "w5i-8S3RtXzH",
        "outputId": "c88f668a-057b-4ebb-e0bd-6c39a4b96727"
      },
      "outputs": [
        {
          "name": "stdout",
          "output_type": "stream",
          "text": [
            "                           candidate_category\n",
            "state_name                                   \n",
            "Lakshadweep                                 6\n",
            "Tamil Nadu                                846\n",
            "Karnataka                                 434\n",
            "Sikkim                                      6\n",
            "Bihar                                     607\n",
            "Arunachal Pradesh                          11\n",
            "Andaman & Nicobar Islands                  15\n",
            "Uttar Pradesh                            1288\n",
            "Dadra & Nagar Haveli                       11\n",
            "Odisha                                    196 \n",
            "\n",
            "\n",
            "Sum of all the Candidate Categories: candidate_category    8252\n",
            "dtype: int64 \n",
            "\n",
            "\n"
          ]
        },
        {
          "data": {
            "text/html": [
              "<div>\n",
              "<style scoped>\n",
              "    .dataframe tbody tr th:only-of-type {\n",
              "        vertical-align: middle;\n",
              "    }\n",
              "\n",
              "    .dataframe tbody tr th {\n",
              "        vertical-align: top;\n",
              "    }\n",
              "\n",
              "    .dataframe thead th {\n",
              "        text-align: right;\n",
              "    }\n",
              "</style>\n",
              "<table border=\"1\" class=\"dataframe\">\n",
              "  <thead>\n",
              "    <tr style=\"text-align: right;\">\n",
              "      <th></th>\n",
              "      <th>st_code</th>\n",
              "      <th>state_name</th>\n",
              "      <th>month</th>\n",
              "      <th>year</th>\n",
              "      <th>pc_number</th>\n",
              "      <th>pc_name</th>\n",
              "      <th>pc_type</th>\n",
              "      <th>candidate_name</th>\n",
              "      <th>candidate_sex</th>\n",
              "      <th>candidate_category</th>\n",
              "      <th>candidate_age</th>\n",
              "      <th>party_abbreviation</th>\n",
              "      <th>total_votes_polled</th>\n",
              "      <th>position</th>\n",
              "    </tr>\n",
              "  </thead>\n",
              "  <tbody>\n",
              "    <tr>\n",
              "      <th>8495</th>\n",
              "      <td>S28</td>\n",
              "      <td>Uttarakhand</td>\n",
              "      <td>5</td>\n",
              "      <td>2014</td>\n",
              "      <td>2</td>\n",
              "      <td>Garhwal</td>\n",
              "      <td>GEN</td>\n",
              "      <td>RENU AGARWAL</td>\n",
              "      <td>F</td>\n",
              "      <td>GEN</td>\n",
              "      <td>36.0</td>\n",
              "      <td>IND</td>\n",
              "      <td>3051</td>\n",
              "      <td>10</td>\n",
              "    </tr>\n",
              "    <tr>\n",
              "      <th>3869</th>\n",
              "      <td>S13</td>\n",
              "      <td>Maharashtra</td>\n",
              "      <td>5</td>\n",
              "      <td>2014</td>\n",
              "      <td>25</td>\n",
              "      <td>Thane</td>\n",
              "      <td>GEN</td>\n",
              "      <td>SALMAN AJIMULLAH HASMI</td>\n",
              "      <td>M</td>\n",
              "      <td>GEN</td>\n",
              "      <td>28.0</td>\n",
              "      <td>RAPa</td>\n",
              "      <td>1402</td>\n",
              "      <td>16</td>\n",
              "    </tr>\n",
              "    <tr>\n",
              "      <th>5866</th>\n",
              "      <td>S22</td>\n",
              "      <td>Tamil Nadu</td>\n",
              "      <td>5</td>\n",
              "      <td>2014</td>\n",
              "      <td>31</td>\n",
              "      <td>Sivaganga</td>\n",
              "      <td>GEN</td>\n",
              "      <td>SARAVANAN M</td>\n",
              "      <td>M</td>\n",
              "      <td>GEN</td>\n",
              "      <td>39.0</td>\n",
              "      <td>IND</td>\n",
              "      <td>2100</td>\n",
              "      <td>14</td>\n",
              "    </tr>\n",
              "    <tr>\n",
              "      <th>3846</th>\n",
              "      <td>S13</td>\n",
              "      <td>Maharashtra</td>\n",
              "      <td>5</td>\n",
              "      <td>2014</td>\n",
              "      <td>24</td>\n",
              "      <td>Kalyan</td>\n",
              "      <td>GEN</td>\n",
              "      <td>TELGOTE PRAKASH SHAMRAO</td>\n",
              "      <td>M</td>\n",
              "      <td>GEN</td>\n",
              "      <td>43.0</td>\n",
              "      <td>IND</td>\n",
              "      <td>1600</td>\n",
              "      <td>12</td>\n",
              "    </tr>\n",
              "    <tr>\n",
              "      <th>6271</th>\n",
              "      <td>S24</td>\n",
              "      <td>Uttar Pradesh</td>\n",
              "      <td>5</td>\n",
              "      <td>2014</td>\n",
              "      <td>11</td>\n",
              "      <td>Baghpat</td>\n",
              "      <td>GEN</td>\n",
              "      <td>RUKSANA</td>\n",
              "      <td>F</td>\n",
              "      <td>GEN</td>\n",
              "      <td>28.0</td>\n",
              "      <td>IND</td>\n",
              "      <td>2092</td>\n",
              "      <td>10</td>\n",
              "    </tr>\n",
              "    <tr>\n",
              "      <th>3820</th>\n",
              "      <td>S13</td>\n",
              "      <td>Maharashtra</td>\n",
              "      <td>5</td>\n",
              "      <td>2014</td>\n",
              "      <td>22</td>\n",
              "      <td>Palghar</td>\n",
              "      <td>ST</td>\n",
              "      <td>KASHINATH LAXMAN KOKERA</td>\n",
              "      <td>M</td>\n",
              "      <td>ST</td>\n",
              "      <td>37.0</td>\n",
              "      <td>IND</td>\n",
              "      <td>4327</td>\n",
              "      <td>11</td>\n",
              "    </tr>\n",
              "  </tbody>\n",
              "</table>\n",
              "</div>"
            ],
            "text/plain": [
              "     st_code     state_name  month  year  pc_number    pc_name pc_type  \\\n",
              "8495     S28    Uttarakhand      5  2014          2    Garhwal     GEN   \n",
              "3869     S13    Maharashtra      5  2014         25      Thane     GEN   \n",
              "5866     S22     Tamil Nadu      5  2014         31  Sivaganga     GEN   \n",
              "3846     S13    Maharashtra      5  2014         24     Kalyan     GEN   \n",
              "6271     S24  Uttar Pradesh      5  2014         11    Baghpat     GEN   \n",
              "3820     S13    Maharashtra      5  2014         22   Palghar       ST   \n",
              "\n",
              "               candidate_name candidate_sex candidate_category  candidate_age  \\\n",
              "8495             RENU AGARWAL             F                GEN           36.0   \n",
              "3869   SALMAN AJIMULLAH HASMI             M                GEN           28.0   \n",
              "5866              SARAVANAN M             M                GEN           39.0   \n",
              "3846  TELGOTE PRAKASH SHAMRAO             M                GEN           43.0   \n",
              "6271                  RUKSANA             F                GEN           28.0   \n",
              "3820  KASHINATH LAXMAN KOKERA             M                 ST           37.0   \n",
              "\n",
              "     party_abbreviation  total_votes_polled  position  \n",
              "8495                IND                3051        10  \n",
              "3869               RAPa                1402        16  \n",
              "5866                IND                2100        14  \n",
              "3846                IND                1600        12  \n",
              "6271                IND                2092        10  \n",
              "3820                IND                4327        11  "
            ]
          },
          "execution_count": 10,
          "metadata": {},
          "output_type": "execute_result"
        }
      ],
      "source": [
        "print(df.groupby([\"state_name\"])[['candidate_category']].count().sample(10),'\\n\\n')\n",
        "print('Sum of all the Candidate Categories:', df.groupby([\"state_name\"])[['candidate_category']].count().sum(),'\\n\\n')\n",
        "df.sample(6)"
      ]
    },
    {
      "cell_type": "markdown",
      "metadata": {
        "id": "LV4JaXRQtXzH"
      },
      "source": [
        "### Group by State Code and Parliamentary Constituency"
      ]
    },
    {
      "cell_type": "code",
      "execution_count": null,
      "metadata": {
        "scrolled": false,
        "id": "eGKEI_EitXzI",
        "outputId": "b791889b-0d56-488a-877f-a54f42f6c478"
      },
      "outputs": [
        {
          "name": "stdout",
          "output_type": "stream",
          "text": [
            "         pc_type\n",
            "st_code         \n",
            "S22          884\n",
            "S28           79\n",
            "U02           18\n",
            "U05          157\n",
            "S09           83\n",
            "S14           20\n",
            "S03          176\n",
            "S15           12\n",
            "S12          407\n",
            "S20          345 \n",
            "\n",
            "\n",
            "Sum of all the State Code Types: pc_type    8794\n",
            "dtype: int64\n"
          ]
        }
      ],
      "source": [
        "print(df.groupby([\"st_code\"])[['pc_type']].count().sample(10), '\\n\\n')\n",
        "print('Sum of all the State Code Types:',(df.groupby([\"st_code\"])[['pc_type']].count().sum()))\n"
      ]
    },
    {
      "cell_type": "markdown",
      "metadata": {
        "id": "53Y6hQ7LtXzI"
      },
      "source": [
        "## Leading Candidates in their respective Parliamentary Constituencies"
      ]
    },
    {
      "cell_type": "code",
      "execution_count": null,
      "metadata": {
        "scrolled": true,
        "id": "HkMH1WaUtXzI",
        "outputId": "722092e3-fa7b-436e-bdf9-60e2f9e12cc5"
      },
      "outputs": [
        {
          "data": {
            "text/html": [
              "<div>\n",
              "<style scoped>\n",
              "    .dataframe tbody tr th:only-of-type {\n",
              "        vertical-align: middle;\n",
              "    }\n",
              "\n",
              "    .dataframe tbody tr th {\n",
              "        vertical-align: top;\n",
              "    }\n",
              "\n",
              "    .dataframe thead th {\n",
              "        text-align: right;\n",
              "    }\n",
              "</style>\n",
              "<table border=\"1\" class=\"dataframe\">\n",
              "  <thead>\n",
              "    <tr style=\"text-align: right;\">\n",
              "      <th></th>\n",
              "      <th>st_code</th>\n",
              "      <th>state_name</th>\n",
              "      <th>month</th>\n",
              "      <th>year</th>\n",
              "      <th>pc_number</th>\n",
              "      <th>pc_name</th>\n",
              "      <th>pc_type</th>\n",
              "      <th>candidate_name</th>\n",
              "      <th>candidate_sex</th>\n",
              "      <th>candidate_category</th>\n",
              "      <th>candidate_age</th>\n",
              "      <th>party_abbreviation</th>\n",
              "      <th>total_votes_polled</th>\n",
              "      <th>position</th>\n",
              "    </tr>\n",
              "  </thead>\n",
              "  <tbody>\n",
              "    <tr>\n",
              "      <th>304</th>\n",
              "      <td>S01</td>\n",
              "      <td>Andhra Pradesh</td>\n",
              "      <td>5</td>\n",
              "      <td>2014</td>\n",
              "      <td>19</td>\n",
              "      <td>Srikakulam</td>\n",
              "      <td>GEN</td>\n",
              "      <td>KINJARAPU TEJESWARA RAO</td>\n",
              "      <td>M</td>\n",
              "      <td>GEN</td>\n",
              "      <td>31.0</td>\n",
              "      <td>IND</td>\n",
              "      <td>2075</td>\n",
              "      <td>11</td>\n",
              "    </tr>\n",
              "    <tr>\n",
              "      <th>5971</th>\n",
              "      <td>S22</td>\n",
              "      <td>Tamil Nadu</td>\n",
              "      <td>5</td>\n",
              "      <td>2014</td>\n",
              "      <td>35</td>\n",
              "      <td>Ramanathapuram</td>\n",
              "      <td>GEN</td>\n",
              "      <td>None of the Above</td>\n",
              "      <td>NaN</td>\n",
              "      <td>GEN</td>\n",
              "      <td>57.0</td>\n",
              "      <td>NOTA</td>\n",
              "      <td>6279</td>\n",
              "      <td>8</td>\n",
              "    </tr>\n",
              "    <tr>\n",
              "      <th>3222</th>\n",
              "      <td>S12</td>\n",
              "      <td>Madhya Pradesh</td>\n",
              "      <td>5</td>\n",
              "      <td>2014</td>\n",
              "      <td>18</td>\n",
              "      <td>VIDISHA</td>\n",
              "      <td>GEN</td>\n",
              "      <td>ENGINEEAR BHAGWAT SINGH RAJPUT</td>\n",
              "      <td>M</td>\n",
              "      <td>GEN</td>\n",
              "      <td>57.0</td>\n",
              "      <td>AAAP</td>\n",
              "      <td>5204</td>\n",
              "      <td>7</td>\n",
              "    </tr>\n",
              "    <tr>\n",
              "      <th>1030</th>\n",
              "      <td>S04</td>\n",
              "      <td>Bihar</td>\n",
              "      <td>5</td>\n",
              "      <td>2014</td>\n",
              "      <td>13</td>\n",
              "      <td>Madhepura</td>\n",
              "      <td>GEN</td>\n",
              "      <td>SAJAN KUMAR JHA</td>\n",
              "      <td>M</td>\n",
              "      <td>GEN</td>\n",
              "      <td>42.0</td>\n",
              "      <td>JMBP</td>\n",
              "      <td>4396</td>\n",
              "      <td>12</td>\n",
              "    </tr>\n",
              "    <tr>\n",
              "      <th>5133</th>\n",
              "      <td>S20</td>\n",
              "      <td>Rajasthan</td>\n",
              "      <td>5</td>\n",
              "      <td>2014</td>\n",
              "      <td>21</td>\n",
              "      <td>Chittorgarh</td>\n",
              "      <td>GEN</td>\n",
              "      <td>CHANDRA PRAKASH JOSHI</td>\n",
              "      <td>M</td>\n",
              "      <td>GEN</td>\n",
              "      <td>38.0</td>\n",
              "      <td>BJP</td>\n",
              "      <td>703236</td>\n",
              "      <td>1</td>\n",
              "    </tr>\n",
              "    <tr>\n",
              "      <th>6866</th>\n",
              "      <td>S24</td>\n",
              "      <td>Uttar Pradesh</td>\n",
              "      <td>5</td>\n",
              "      <td>2014</td>\n",
              "      <td>46</td>\n",
              "      <td>Jhansi</td>\n",
              "      <td>GEN</td>\n",
              "      <td>UMA BHARATI</td>\n",
              "      <td>F</td>\n",
              "      <td>GEN</td>\n",
              "      <td>55.0</td>\n",
              "      <td>BJP</td>\n",
              "      <td>575889</td>\n",
              "      <td>1</td>\n",
              "    </tr>\n",
              "  </tbody>\n",
              "</table>\n",
              "</div>"
            ],
            "text/plain": [
              "     st_code      state_name  month  year  pc_number         pc_name pc_type  \\\n",
              "304      S01  Andhra Pradesh      5  2014         19      Srikakulam     GEN   \n",
              "5971     S22      Tamil Nadu      5  2014         35  Ramanathapuram     GEN   \n",
              "3222     S12  Madhya Pradesh      5  2014         18         VIDISHA     GEN   \n",
              "1030     S04           Bihar      5  2014         13       Madhepura     GEN   \n",
              "5133     S20       Rajasthan      5  2014         21     Chittorgarh     GEN   \n",
              "6866     S24   Uttar Pradesh      5  2014         46          Jhansi     GEN   \n",
              "\n",
              "                      candidate_name candidate_sex candidate_category  \\\n",
              "304          KINJARAPU TEJESWARA RAO             M                GEN   \n",
              "5971               None of the Above           NaN                GEN   \n",
              "3222  ENGINEEAR BHAGWAT SINGH RAJPUT             M                GEN   \n",
              "1030                 SAJAN KUMAR JHA             M                GEN   \n",
              "5133           CHANDRA PRAKASH JOSHI             M                GEN   \n",
              "6866                     UMA BHARATI             F                GEN   \n",
              "\n",
              "      candidate_age party_abbreviation  total_votes_polled  position  \n",
              "304            31.0                IND                2075        11  \n",
              "5971           57.0               NOTA                6279         8  \n",
              "3222           57.0               AAAP                5204         7  \n",
              "1030           42.0               JMBP                4396        12  \n",
              "5133           38.0                BJP              703236         1  \n",
              "6866           55.0                BJP              575889         1  "
            ]
          },
          "execution_count": 12,
          "metadata": {},
          "output_type": "execute_result"
        }
      ],
      "source": [
        "df[df.position==1]\n",
        "df.sample(6)"
      ]
    },
    {
      "cell_type": "markdown",
      "metadata": {
        "id": "tFF-Cu52tXzJ"
      },
      "source": [
        "### Above is the list of some candidates receiving first position (highest votes received) in their respective Parliamentary Constituencies"
      ]
    },
    {
      "cell_type": "code",
      "execution_count": null,
      "metadata": {
        "scrolled": false,
        "id": "ze0LTp8ptXzJ",
        "outputId": "e0111b10-f029-46bf-92a3-0b571a5f80b7"
      },
      "outputs": [
        {
          "name": "stdout",
          "output_type": "stream",
          "text": [
            "     st_code state_name  month  year  pc_number pc_name pc_type  \\\n",
            "4930     S20  Rajasthan      5  2014          7  Jaipur     GEN   \n",
            "\n",
            "        candidate_name candidate_sex candidate_category  candidate_age  \\\n",
            "4930  RAMCHARAN BOHARA             M                GEN           56.0   \n",
            "\n",
            "     party_abbreviation  total_votes_polled  position  \n",
            "4930                BJP              863358         1   \n",
            "\n",
            "\n",
            "\n",
            "Maximum number of votes received by a candidate: 863358 \n",
            "\n",
            "\n",
            "\n",
            "     st_code  state_name  month  year  pc_number        pc_name pc_type  \\\n",
            "5298     S22  Tamil Nadu      5  2014          3  Chennai South     GEN   \n",
            "\n",
            "     candidate_name candidate_sex candidate_category  candidate_age  \\\n",
            "5298   S. VEERAMANI             M                GEN           63.0   \n",
            "\n",
            "     party_abbreviation  total_votes_polled  position  \n",
            "5298                IND                 105        43   \n",
            "\n",
            "\n",
            "\n",
            "Minimum number of votes received by a candidate: 105\n"
          ]
        }
      ],
      "source": [
        "print(df.loc[df.total_votes_polled == max(df.total_votes_polled)], '\\n\\n\\n')\n",
        "print('Maximum number of votes received by a candidate:', max(df.total_votes_polled), '\\n\\n\\n')\n",
        "print(df.loc[df.total_votes_polled == min(df.total_votes_polled)], '\\n\\n\\n')\n",
        "print('Minimum number of votes received by a candidate:', min(df.total_votes_polled))"
      ]
    },
    {
      "cell_type": "markdown",
      "metadata": {
        "id": "joTH1Z1FtXzJ"
      },
      "source": [
        "### Maximum number of votes received by Ramcharan Bohara of Rajasthan, Parliamentary Constituency of Jaipur with '863358' votes\n",
        "### Minimum number of votes received by S. Veeramani  of Tamil Nadu, Parliamentary Constituency of Chennai South with '105' votes"
      ]
    },
    {
      "cell_type": "code",
      "execution_count": null,
      "metadata": {
        "scrolled": false,
        "id": "sUGtEbuvtXzJ"
      },
      "outputs": [],
      "source": [
        "#df.loc[df.candidate_sex == \"O\"]"
      ]
    }
  ],
  "metadata": {
    "kernelspec": {
      "display_name": "Python 3",
      "language": "python",
      "name": "python3"
    },
    "language_info": {
      "codemirror_mode": {
        "name": "ipython",
        "version": 3
      },
      "file_extension": ".py",
      "mimetype": "text/x-python",
      "name": "python",
      "nbconvert_exporter": "python",
      "pygments_lexer": "ipython3",
      "version": "3.8.3"
    },
    "colab": {
      "provenance": [],
      "include_colab_link": true
    }
  },
  "nbformat": 4,
  "nbformat_minor": 0
}