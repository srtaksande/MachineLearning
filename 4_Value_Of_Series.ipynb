{
 "cells": [
  {
   "cell_type": "code",
   "execution_count": 4,
   "id": "4d0b0b64",
   "metadata": {},
   "outputs": [
    {
     "name": "stdout",
     "output_type": "stream",
     "text": [
      "Enter a number: 5\n"
     ]
    }
   ],
   "source": [
    "sum = 0\n",
    "x= int(input(\"Enter a number: \"))"
   ]
  },
  {
   "cell_type": "code",
   "execution_count": 7,
   "id": "b7f910d9",
   "metadata": {},
   "outputs": [],
   "source": [
    "for n in range(1,12):\n",
    "    y = 1 / (x**n)\n",
    "    sum = sum + y"
   ]
  },
  {
   "cell_type": "code",
   "execution_count": 8,
   "id": "42203ffe",
   "metadata": {},
   "outputs": [
    {
     "data": {
      "text/plain": [
       "3.74999998464"
      ]
     },
     "execution_count": 8,
     "metadata": {},
     "output_type": "execute_result"
    }
   ],
   "source": [
    "sum"
   ]
  }
 ],
 "metadata": {
  "kernelspec": {
   "display_name": "Python 3 (ipykernel)",
   "language": "python",
   "name": "python3"
  },
  "language_info": {
   "codemirror_mode": {
    "name": "ipython",
    "version": 3
   },
   "file_extension": ".py",
   "mimetype": "text/x-python",
   "name": "python",
   "nbconvert_exporter": "python",
   "pygments_lexer": "ipython3",
   "version": "3.9.7"
  }
 },
 "nbformat": 4,
 "nbformat_minor": 5
}
