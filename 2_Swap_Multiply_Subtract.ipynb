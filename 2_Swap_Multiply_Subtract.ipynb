{
 "cells": [
  {
   "cell_type": "code",
   "execution_count": 1,
   "id": "3dd0a433",
   "metadata": {},
   "outputs": [],
   "source": [
    "import numpy as np"
   ]
  },
  {
   "cell_type": "code",
   "execution_count": 2,
   "id": "ccc7d12b",
   "metadata": {},
   "outputs": [
    {
     "data": {
      "text/plain": [
       "array([[1, 6, 9],\n",
       "       [0, 3, 3],\n",
       "       [8, 2, 5]])"
      ]
     },
     "execution_count": 2,
     "metadata": {},
     "output_type": "execute_result"
    }
   ],
   "source": [
    "a = np.array([[1,6,9],[0,3,3],[8,2,5]])\n",
    "a"
   ]
  },
  {
   "cell_type": "markdown",
   "id": "133f8b12",
   "metadata": {},
   "source": [
    "a. Swap rows R1<->R2"
   ]
  },
  {
   "cell_type": "code",
   "execution_count": 3,
   "id": "8ca6cff0",
   "metadata": {},
   "outputs": [
    {
     "data": {
      "text/plain": [
       "array([1, 6, 9])"
      ]
     },
     "execution_count": 3,
     "metadata": {},
     "output_type": "execute_result"
    }
   ],
   "source": [
    "temp = np.array(a[0])\n",
    "temp"
   ]
  },
  {
   "cell_type": "code",
   "execution_count": 4,
   "id": "36376b00",
   "metadata": {},
   "outputs": [
    {
     "data": {
      "text/plain": [
       "array([0, 3, 3])"
      ]
     },
     "execution_count": 4,
     "metadata": {},
     "output_type": "execute_result"
    }
   ],
   "source": [
    "a[0] = a[1]\n",
    "a[0]"
   ]
  },
  {
   "cell_type": "code",
   "execution_count": 5,
   "id": "ae054b66",
   "metadata": {},
   "outputs": [
    {
     "data": {
      "text/plain": [
       "array([1, 6, 9])"
      ]
     },
     "execution_count": 5,
     "metadata": {},
     "output_type": "execute_result"
    }
   ],
   "source": [
    "a[1] = temp\n",
    "a[1]"
   ]
  },
  {
   "cell_type": "code",
   "execution_count": 6,
   "id": "66e50a09",
   "metadata": {},
   "outputs": [
    {
     "data": {
      "text/plain": [
       "array([[0, 3, 3],\n",
       "       [1, 6, 9],\n",
       "       [8, 2, 5]])"
      ]
     },
     "execution_count": 6,
     "metadata": {},
     "output_type": "execute_result"
    }
   ],
   "source": [
    "a"
   ]
  },
  {
   "cell_type": "markdown",
   "id": "f841b55d",
   "metadata": {},
   "source": [
    "b. Multiply R1 by 5"
   ]
  },
  {
   "cell_type": "code",
   "execution_count": 7,
   "id": "a22b9f69",
   "metadata": {},
   "outputs": [
    {
     "data": {
      "text/plain": [
       "array([[ 0, 15, 15],\n",
       "       [ 1,  6,  9],\n",
       "       [ 8,  2,  5]])"
      ]
     },
     "execution_count": 7,
     "metadata": {},
     "output_type": "execute_result"
    }
   ],
   "source": [
    "a[0] = 5 * a[0]\n",
    "a"
   ]
  },
  {
   "cell_type": "markdown",
   "id": "6198b32a",
   "metadata": {},
   "source": [
    "Subtract row R3 from R1"
   ]
  },
  {
   "cell_type": "code",
   "execution_count": 8,
   "id": "c9c29600",
   "metadata": {
    "scrolled": true
   },
   "outputs": [],
   "source": [
    "a[0] = a[0] - a[2]"
   ]
  },
  {
   "cell_type": "markdown",
   "id": "1987e907",
   "metadata": {},
   "source": [
    "Final Matrix"
   ]
  },
  {
   "cell_type": "code",
   "execution_count": 9,
   "id": "ebaaea3c",
   "metadata": {},
   "outputs": [
    {
     "data": {
      "text/plain": [
       "array([[-8, 13, 10],\n",
       "       [ 1,  6,  9],\n",
       "       [ 8,  2,  5]])"
      ]
     },
     "execution_count": 9,
     "metadata": {},
     "output_type": "execute_result"
    }
   ],
   "source": [
    "a"
   ]
  }
 ],
 "metadata": {
  "kernelspec": {
   "display_name": "Python 3 (ipykernel)",
   "language": "python",
   "name": "python3"
  },
  "language_info": {
   "codemirror_mode": {
    "name": "ipython",
    "version": 3
   },
   "file_extension": ".py",
   "mimetype": "text/x-python",
   "name": "python",
   "nbconvert_exporter": "python",
   "pygments_lexer": "ipython3",
   "version": "3.9.7"
  }
 },
 "nbformat": 4,
 "nbformat_minor": 5
}
