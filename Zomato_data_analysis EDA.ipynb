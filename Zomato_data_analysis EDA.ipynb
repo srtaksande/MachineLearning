{
  "nbformat": 4,
  "nbformat_minor": 0,
  "metadata": {
    "colab": {
      "provenance": [],
      "include_colab_link": true
    },
    "kernelspec": {
      "display_name": "Python 3",
      "language": "python",
      "name": "python3"
    },
    "language_info": {
      "codemirror_mode": {
        "name": "ipython",
        "version": 3
      },
      "file_extension": ".py",
      "mimetype": "text/x-python",
      "name": "python",
      "nbconvert_exporter": "python",
      "pygments_lexer": "ipython3",
      "version": "3.7.0"
    },
    "toc": {
      "base_numbering": 1,
      "nav_menu": {},
      "number_sections": true,
      "sideBar": true,
      "skip_h1_title": false,
      "title_cell": "Table of Contents",
      "title_sidebar": "Contents",
      "toc_cell": false,
      "toc_position": {},
      "toc_section_display": true,
      "toc_window_display": false
    },
    "varInspector": {
      "cols": {
        "lenName": 16,
        "lenType": 16,
        "lenVar": 40
      },
      "kernels_config": {
        "python": {
          "delete_cmd_postfix": "",
          "delete_cmd_prefix": "del ",
          "library": "var_list.py",
          "varRefreshCmd": "print(var_dic_list())"
        },
        "r": {
          "delete_cmd_postfix": ") ",
          "delete_cmd_prefix": "rm(",
          "library": "var_list.r",
          "varRefreshCmd": "cat(var_dic_list()) "
        }
      },
      "types_to_exclude": [
        "module",
        "function",
        "builtin_function_or_method",
        "instance",
        "_Feature"
      ],
      "window_display": false
    }
  },
  "cells": [
    {
      "cell_type": "markdown",
      "metadata": {
        "id": "view-in-github",
        "colab_type": "text"
      },
      "source": [
        "<a href=\"https://colab.research.google.com/github/srtaksande/MachineLearning/blob/main/Zomato_data_analysis%20EDA.ipynb\" target=\"_parent\"><img src=\"https://colab.research.google.com/assets/colab-badge.svg\" alt=\"Open In Colab\"/></a>"
      ]
    },
    {
      "cell_type": "markdown",
      "metadata": {
        "id": "puikFS6DaSlv"
      },
      "source": [
        "## Description\n",
        "\n",
        "\n",
        "This dataset has information on restaurants in Bangalore along with their Zomato ratings. Except for the ratings, the column is in a 'non-numeric' format, as seen in the .info() below. The data set also has missing values. Here are some tasks for you to attempt o this dataset\n",
        "- Drop columns that you think are not relevant for any analysis\n",
        "- Rename columns using rename() .Use a dictionary of old name:new name as an input to the rename function\n",
        "- Choose columns that you think need to be in numeric format.Converting string to numeric using pd.to_numeric or .astype() . You may have to use str/re functions in some cases and also regex expressions https://www.youtube.com/watch?v=ykSuHWhh5hc&list=RDCMUCXgGY0wkgOzynnHvSEVmE3A&start_radio=1&rv=ykSuHWhh5hc&t=709   and for a more detailed tutorial looks look here  https://www.youtube.com/playlist?list=PL4cUxeGkcC9g6m_6Sld9Q4jzqdqHd2HiD   or use ggplot within python by installing the plotnine library\n",
        "- Do an Exploratory data analysis by setting appropriate indexes , .loc methods , value_counts() ,describe etc. You can also use some basic pandas visualization methods such as this https://www.analyticsvidhya.com/blog/2021/07/how-to-perform-data-visualization-with-pandas/\n",
        "- Create a separate header for \"Missing value analysis\". Take a look at missing values. This is a small dataset, so you can go over it column by column. I have shown some examples below. Comment on the nature of missing variables for each column. Write out possible reasons for the value to be missing.\n",
        "\n",
        "- Try and figure out if in a given column the missing values are. Use statistical tests such as Little's test, Crosstabs for missing value  patterns  to justify your conclusion **you can create a missing value dummy for each variable to do such crosstabs**\n",
        "    - Structural deficiencies\n",
        "    - MCAR\n",
        "    - MAR\n",
        "    \n",
        "- Choose appropriate treatment for treating missing values. You may use fillna() and interpolate() for treating missing values. You can use this for reference https://www.geeksforgeeks.org/working-with-missing-data-in-pandas/?ref=lbp\n"
      ]
    },
    {
      "cell_type": "markdown",
      "metadata": {
        "id": "rFdAzvZEdO6T"
      },
      "source": [
        "You can use this template as a started code and build on top of this"
      ]
    },
    {
      "cell_type": "code",
      "metadata": {
        "colab": {
          "base_uri": "https://localhost:8080/"
        },
        "id": "gXqMUMmd1Dgp",
        "outputId": "e591cfe6-1b1e-4f09-b0e3-b4c6c10025ca"
      },
      "source": [
        "from google.colab import drive\n",
        "drive.mount('/content/gdrive')"
      ],
      "execution_count": null,
      "outputs": [
        {
          "output_type": "stream",
          "name": "stdout",
          "text": [
            "Mounted at /content/gdrive\n"
          ]
        }
      ]
    },
    {
      "cell_type": "code",
      "metadata": {
        "colab": {
          "base_uri": "https://localhost:8080/"
        },
        "id": "2WDSYOYg1fl4",
        "outputId": "104b45ae-23f0-439f-c204-9f32ddae5a91"
      },
      "source": [
        "!ls"
      ],
      "execution_count": null,
      "outputs": [
        {
          "output_type": "stream",
          "name": "stdout",
          "text": [
            "gdrive\tsample_data\n"
          ]
        }
      ]
    },
    {
      "cell_type": "markdown",
      "metadata": {
        "id": "-e3Z-U9mBrB3"
      },
      "source": [
        "## Dropping and renaming columns"
      ]
    },
    {
      "cell_type": "code",
      "metadata": {
        "id": "c565WuMBaSl0"
      },
      "source": [
        "import pandas as pd"
      ],
      "execution_count": null,
      "outputs": []
    },
    {
      "cell_type": "code",
      "metadata": {
        "id": "p-IHVyeIaSl1"
      },
      "source": [
        "tp = pd.read_csv('gdrive/My Drive/Colab Notebooks/zomato.csv',sep=',')\n"
      ],
      "execution_count": null,
      "outputs": []
    },
    {
      "cell_type": "code",
      "metadata": {
        "colab": {
          "base_uri": "https://localhost:8080/"
        },
        "id": "tT210VSYaSl1",
        "outputId": "a09d67da-43e5-4e57-f70d-1a8e488ae71c"
      },
      "source": [
        "tp.info()"
      ],
      "execution_count": null,
      "outputs": [
        {
          "output_type": "stream",
          "name": "stdout",
          "text": [
            "<class 'pandas.core.frame.DataFrame'>\n",
            "RangeIndex: 51717 entries, 0 to 51716\n",
            "Data columns (total 17 columns):\n",
            " #   Column                       Non-Null Count  Dtype \n",
            "---  ------                       --------------  ----- \n",
            " 0   url                          51717 non-null  object\n",
            " 1   address                      51717 non-null  object\n",
            " 2   name                         51717 non-null  object\n",
            " 3   online_order                 51717 non-null  object\n",
            " 4   book_table                   51717 non-null  object\n",
            " 5   rate                         43942 non-null  object\n",
            " 6   votes                        51717 non-null  int64 \n",
            " 7   phone                        50509 non-null  object\n",
            " 8   location                     51696 non-null  object\n",
            " 9   rest_type                    51490 non-null  object\n",
            " 10  dish_liked                   23639 non-null  object\n",
            " 11  cuisines                     51672 non-null  object\n",
            " 12  approx_cost(for two people)  51371 non-null  object\n",
            " 13  reviews_list                 51717 non-null  object\n",
            " 14  menu_item                    51717 non-null  object\n",
            " 15  listed_in(type)              51717 non-null  object\n",
            " 16  listed_in(city)              51717 non-null  object\n",
            "dtypes: int64(1), object(16)\n",
            "memory usage: 6.7+ MB\n"
          ]
        }
      ]
    },
    {
      "cell_type": "markdown",
      "metadata": {
        "id": "nBo4WLrJaSl2"
      },
      "source": [
        "Getting insights of the data"
      ]
    },
    {
      "cell_type": "code",
      "metadata": {
        "colab": {
          "base_uri": "https://localhost:8080/"
        },
        "id": "XW4r3ldDaSl3",
        "outputId": "4f9280d4-97e6-4c41-8675-b28d40169260"
      },
      "source": [
        "tp.shape"
      ],
      "execution_count": null,
      "outputs": [
        {
          "output_type": "execute_result",
          "data": {
            "text/plain": [
              "(51717, 17)"
            ]
          },
          "metadata": {},
          "execution_count": 6
        }
      ]
    },
    {
      "cell_type": "code",
      "metadata": {
        "colab": {
          "base_uri": "https://localhost:8080/",
          "height": 607
        },
        "id": "G7tFozf5GNU-",
        "outputId": "0446e689-0702-4996-a260-020351bb33ca"
      },
      "source": [
        "tp.head()"
      ],
      "execution_count": null,
      "outputs": [
        {
          "output_type": "execute_result",
          "data": {
            "text/html": [
              "<div>\n",
              "<style scoped>\n",
              "    .dataframe tbody tr th:only-of-type {\n",
              "        vertical-align: middle;\n",
              "    }\n",
              "\n",
              "    .dataframe tbody tr th {\n",
              "        vertical-align: top;\n",
              "    }\n",
              "\n",
              "    .dataframe thead th {\n",
              "        text-align: right;\n",
              "    }\n",
              "</style>\n",
              "<table border=\"1\" class=\"dataframe\">\n",
              "  <thead>\n",
              "    <tr style=\"text-align: right;\">\n",
              "      <th></th>\n",
              "      <th>url</th>\n",
              "      <th>address</th>\n",
              "      <th>name</th>\n",
              "      <th>online_order</th>\n",
              "      <th>book_table</th>\n",
              "      <th>rate</th>\n",
              "      <th>votes</th>\n",
              "      <th>phone</th>\n",
              "      <th>location</th>\n",
              "      <th>rest_type</th>\n",
              "      <th>dish_liked</th>\n",
              "      <th>cuisines</th>\n",
              "      <th>approx_cost(for two people)</th>\n",
              "      <th>reviews_list</th>\n",
              "      <th>menu_item</th>\n",
              "      <th>listed_in(type)</th>\n",
              "      <th>listed_in(city)</th>\n",
              "    </tr>\n",
              "  </thead>\n",
              "  <tbody>\n",
              "    <tr>\n",
              "      <th>0</th>\n",
              "      <td>https://www.zomato.com/bangalore/jalsa-banasha...</td>\n",
              "      <td>942, 21st Main Road, 2nd Stage, Banashankari, ...</td>\n",
              "      <td>Jalsa</td>\n",
              "      <td>Yes</td>\n",
              "      <td>Yes</td>\n",
              "      <td>4.1/5</td>\n",
              "      <td>775</td>\n",
              "      <td>080 42297555\\r\\n+91 9743772233</td>\n",
              "      <td>Banashankari</td>\n",
              "      <td>Casual Dining</td>\n",
              "      <td>Pasta, Lunch Buffet, Masala Papad, Paneer Laja...</td>\n",
              "      <td>North Indian, Mughlai, Chinese</td>\n",
              "      <td>800</td>\n",
              "      <td>[('Rated 4.0', 'RATED\\n  A beautiful place to ...</td>\n",
              "      <td>[]</td>\n",
              "      <td>Buffet</td>\n",
              "      <td>Banashankari</td>\n",
              "    </tr>\n",
              "    <tr>\n",
              "      <th>1</th>\n",
              "      <td>https://www.zomato.com/bangalore/spice-elephan...</td>\n",
              "      <td>2nd Floor, 80 Feet Road, Near Big Bazaar, 6th ...</td>\n",
              "      <td>Spice Elephant</td>\n",
              "      <td>Yes</td>\n",
              "      <td>No</td>\n",
              "      <td>4.1/5</td>\n",
              "      <td>787</td>\n",
              "      <td>080 41714161</td>\n",
              "      <td>Banashankari</td>\n",
              "      <td>Casual Dining</td>\n",
              "      <td>Momos, Lunch Buffet, Chocolate Nirvana, Thai G...</td>\n",
              "      <td>Chinese, North Indian, Thai</td>\n",
              "      <td>800</td>\n",
              "      <td>[('Rated 4.0', 'RATED\\n  Had been here for din...</td>\n",
              "      <td>[]</td>\n",
              "      <td>Buffet</td>\n",
              "      <td>Banashankari</td>\n",
              "    </tr>\n",
              "    <tr>\n",
              "      <th>2</th>\n",
              "      <td>https://www.zomato.com/SanchurroBangalore?cont...</td>\n",
              "      <td>1112, Next to KIMS Medical College, 17th Cross...</td>\n",
              "      <td>San Churro Cafe</td>\n",
              "      <td>Yes</td>\n",
              "      <td>No</td>\n",
              "      <td>3.8/5</td>\n",
              "      <td>918</td>\n",
              "      <td>+91 9663487993</td>\n",
              "      <td>Banashankari</td>\n",
              "      <td>Cafe, Casual Dining</td>\n",
              "      <td>Churros, Cannelloni, Minestrone Soup, Hot Choc...</td>\n",
              "      <td>Cafe, Mexican, Italian</td>\n",
              "      <td>800</td>\n",
              "      <td>[('Rated 3.0', \"RATED\\n  Ambience is not that ...</td>\n",
              "      <td>[]</td>\n",
              "      <td>Buffet</td>\n",
              "      <td>Banashankari</td>\n",
              "    </tr>\n",
              "    <tr>\n",
              "      <th>3</th>\n",
              "      <td>https://www.zomato.com/bangalore/addhuri-udupi...</td>\n",
              "      <td>1st Floor, Annakuteera, 3rd Stage, Banashankar...</td>\n",
              "      <td>Addhuri Udupi Bhojana</td>\n",
              "      <td>No</td>\n",
              "      <td>No</td>\n",
              "      <td>3.7/5</td>\n",
              "      <td>88</td>\n",
              "      <td>+91 9620009302</td>\n",
              "      <td>Banashankari</td>\n",
              "      <td>Quick Bites</td>\n",
              "      <td>Masala Dosa</td>\n",
              "      <td>South Indian, North Indian</td>\n",
              "      <td>300</td>\n",
              "      <td>[('Rated 4.0', \"RATED\\n  Great food and proper...</td>\n",
              "      <td>[]</td>\n",
              "      <td>Buffet</td>\n",
              "      <td>Banashankari</td>\n",
              "    </tr>\n",
              "    <tr>\n",
              "      <th>4</th>\n",
              "      <td>https://www.zomato.com/bangalore/grand-village...</td>\n",
              "      <td>10, 3rd Floor, Lakshmi Associates, Gandhi Baza...</td>\n",
              "      <td>Grand Village</td>\n",
              "      <td>No</td>\n",
              "      <td>No</td>\n",
              "      <td>3.8/5</td>\n",
              "      <td>166</td>\n",
              "      <td>+91 8026612447\\r\\n+91 9901210005</td>\n",
              "      <td>Basavanagudi</td>\n",
              "      <td>Casual Dining</td>\n",
              "      <td>Panipuri, Gol Gappe</td>\n",
              "      <td>North Indian, Rajasthani</td>\n",
              "      <td>600</td>\n",
              "      <td>[('Rated 4.0', 'RATED\\n  Very good restaurant ...</td>\n",
              "      <td>[]</td>\n",
              "      <td>Buffet</td>\n",
              "      <td>Banashankari</td>\n",
              "    </tr>\n",
              "  </tbody>\n",
              "</table>\n",
              "</div>"
            ],
            "text/plain": [
              "                                                 url  ... listed_in(city)\n",
              "0  https://www.zomato.com/bangalore/jalsa-banasha...  ...    Banashankari\n",
              "1  https://www.zomato.com/bangalore/spice-elephan...  ...    Banashankari\n",
              "2  https://www.zomato.com/SanchurroBangalore?cont...  ...    Banashankari\n",
              "3  https://www.zomato.com/bangalore/addhuri-udupi...  ...    Banashankari\n",
              "4  https://www.zomato.com/bangalore/grand-village...  ...    Banashankari\n",
              "\n",
              "[5 rows x 17 columns]"
            ]
          },
          "metadata": {},
          "execution_count": 7
        }
      ]
    },
    {
      "cell_type": "markdown",
      "metadata": {
        "id": "roT_iL_LBrCC"
      },
      "source": [
        "## Change datatypes"
      ]
    },
    {
      "cell_type": "markdown",
      "metadata": {
        "id": "A-Ijs1qHIbSk"
      },
      "source": [
        "renaming approx cost col name"
      ]
    },
    {
      "cell_type": "code",
      "metadata": {
        "id": "9uzJ4FAIBrCF"
      },
      "source": [
        "tp.rename(columns={\"approx_cost(for two people)\":\"Approx_cost\",\"listed_in(type)\":\"Res_Type\",\"listed_in(city)\":\"Area\",\"rest_type\":\"cus_type\"},inplace=True)"
      ],
      "execution_count": null,
      "outputs": []
    },
    {
      "cell_type": "code",
      "metadata": {
        "id": "TGfryuQ-BrCF"
      },
      "source": [
        "tp.Approx_cost=tp.Approx_cost.str.replace(\",\",\"\")\n",
        "tp.Approx_cost=tp.Approx_cost.astype('float64')"
      ],
      "execution_count": null,
      "outputs": []
    },
    {
      "cell_type": "code",
      "metadata": {
        "id": "cYESX5BtBrCG"
      },
      "source": [
        "tp.url=tp.url.astype(\"string\")\n",
        "tp.address=tp.address.astype(\"string\")\n",
        "tp.name=tp.name.astype(\"string\")\n",
        "tp.phone=tp.phone.astype(\"string\")\n",
        "tp.location=tp.location.astype(\"string\")\n",
        "tp.cus_type=tp.cus_type.astype(\"category\")\n",
        "tp.dish_liked=tp.dish_liked.astype(\"string\")\n",
        "tp.cuisines=tp.cuisines.astype(\"string\")\n",
        "tp.Res_Type=tp.Res_Type.astype(\"category\")\n",
        "tp.Area=tp.Area.astype(\"category\")\n"
      ],
      "execution_count": null,
      "outputs": []
    },
    {
      "cell_type": "code",
      "metadata": {
        "colab": {
          "base_uri": "https://localhost:8080/"
        },
        "id": "KI-Zyh3ON5R4",
        "outputId": "7d7b44fa-65c9-4173-f7c5-b024f4374f87"
      },
      "source": [
        "tp.online_order.value_counts()"
      ],
      "execution_count": null,
      "outputs": [
        {
          "output_type": "execute_result",
          "data": {
            "text/plain": [
              "Yes    30444\n",
              "No     21273\n",
              "Name: online_order, dtype: int64"
            ]
          },
          "metadata": {},
          "execution_count": 11
        }
      ]
    },
    {
      "cell_type": "code",
      "metadata": {
        "id": "JzcJYFZ3OHDP"
      },
      "source": [
        "tp =tp.replace({'online_order': {'Yes': True, 'No': False}})"
      ],
      "execution_count": null,
      "outputs": []
    },
    {
      "cell_type": "code",
      "metadata": {
        "colab": {
          "base_uri": "https://localhost:8080/"
        },
        "id": "JwMpeWrWOPBa",
        "outputId": "b2911766-1545-4fce-ffbc-5aa259236f26"
      },
      "source": [
        "tp.book_table.value_counts()"
      ],
      "execution_count": null,
      "outputs": [
        {
          "output_type": "execute_result",
          "data": {
            "text/plain": [
              "No     45268\n",
              "Yes     6449\n",
              "Name: book_table, dtype: int64"
            ]
          },
          "metadata": {},
          "execution_count": 13
        }
      ]
    },
    {
      "cell_type": "code",
      "metadata": {
        "id": "7yyGZnafOAA8"
      },
      "source": [
        "tp =tp.replace({'book_table': {'Yes': True, 'No': False}})"
      ],
      "execution_count": null,
      "outputs": []
    },
    {
      "cell_type": "code",
      "metadata": {
        "colab": {
          "base_uri": "https://localhost:8080/"
        },
        "id": "tDSoZ6aGOOla",
        "outputId": "7c12fe26-8704-44a5-daec-4e3da8bf1109"
      },
      "source": [
        "tp.info()"
      ],
      "execution_count": null,
      "outputs": [
        {
          "output_type": "stream",
          "name": "stdout",
          "text": [
            "<class 'pandas.core.frame.DataFrame'>\n",
            "RangeIndex: 51717 entries, 0 to 51716\n",
            "Data columns (total 17 columns):\n",
            " #   Column        Non-Null Count  Dtype   \n",
            "---  ------        --------------  -----   \n",
            " 0   url           51717 non-null  string  \n",
            " 1   address       51717 non-null  string  \n",
            " 2   name          51717 non-null  string  \n",
            " 3   online_order  51717 non-null  bool    \n",
            " 4   book_table    51717 non-null  bool    \n",
            " 5   rate          43942 non-null  object  \n",
            " 6   votes         51717 non-null  int64   \n",
            " 7   phone         50509 non-null  string  \n",
            " 8   location      51696 non-null  string  \n",
            " 9   cus_type      51490 non-null  category\n",
            " 10  dish_liked    23639 non-null  string  \n",
            " 11  cuisines      51672 non-null  string  \n",
            " 12  Approx_cost   51371 non-null  float64 \n",
            " 13  reviews_list  51717 non-null  object  \n",
            " 14  menu_item     51717 non-null  object  \n",
            " 15  Res_Type      51717 non-null  category\n",
            " 16  Area          51717 non-null  category\n",
            "dtypes: bool(2), category(3), float64(1), int64(1), object(3), string(7)\n",
            "memory usage: 5.0+ MB\n"
          ]
        }
      ]
    },
    {
      "cell_type": "code",
      "metadata": {
        "colab": {
          "base_uri": "https://localhost:8080/",
          "height": 590
        },
        "id": "wY6g8xG6QEXD",
        "outputId": "7b27acbd-f07c-4bc6-c7ec-b43a832ec7ab"
      },
      "source": [
        "tp.head()"
      ],
      "execution_count": null,
      "outputs": [
        {
          "output_type": "execute_result",
          "data": {
            "text/html": [
              "<div>\n",
              "<style scoped>\n",
              "    .dataframe tbody tr th:only-of-type {\n",
              "        vertical-align: middle;\n",
              "    }\n",
              "\n",
              "    .dataframe tbody tr th {\n",
              "        vertical-align: top;\n",
              "    }\n",
              "\n",
              "    .dataframe thead th {\n",
              "        text-align: right;\n",
              "    }\n",
              "</style>\n",
              "<table border=\"1\" class=\"dataframe\">\n",
              "  <thead>\n",
              "    <tr style=\"text-align: right;\">\n",
              "      <th></th>\n",
              "      <th>url</th>\n",
              "      <th>address</th>\n",
              "      <th>name</th>\n",
              "      <th>online_order</th>\n",
              "      <th>book_table</th>\n",
              "      <th>rate</th>\n",
              "      <th>votes</th>\n",
              "      <th>phone</th>\n",
              "      <th>location</th>\n",
              "      <th>cus_type</th>\n",
              "      <th>dish_liked</th>\n",
              "      <th>cuisines</th>\n",
              "      <th>Approx_cost</th>\n",
              "      <th>reviews_list</th>\n",
              "      <th>menu_item</th>\n",
              "      <th>Res_Type</th>\n",
              "      <th>Area</th>\n",
              "    </tr>\n",
              "  </thead>\n",
              "  <tbody>\n",
              "    <tr>\n",
              "      <th>0</th>\n",
              "      <td>https://www.zomato.com/bangalore/jalsa-banasha...</td>\n",
              "      <td>942, 21st Main Road, 2nd Stage, Banashankari, ...</td>\n",
              "      <td>Jalsa</td>\n",
              "      <td>True</td>\n",
              "      <td>True</td>\n",
              "      <td>4.1/5</td>\n",
              "      <td>775</td>\n",
              "      <td>080 42297555\r\n",
              "+91 9743772233</td>\n",
              "      <td>Banashankari</td>\n",
              "      <td>Casual Dining</td>\n",
              "      <td>Pasta, Lunch Buffet, Masala Papad, Paneer Laja...</td>\n",
              "      <td>North Indian, Mughlai, Chinese</td>\n",
              "      <td>800.0</td>\n",
              "      <td>[('Rated 4.0', 'RATED\\n  A beautiful place to ...</td>\n",
              "      <td>[]</td>\n",
              "      <td>Buffet</td>\n",
              "      <td>Banashankari</td>\n",
              "    </tr>\n",
              "    <tr>\n",
              "      <th>1</th>\n",
              "      <td>https://www.zomato.com/bangalore/spice-elephan...</td>\n",
              "      <td>2nd Floor, 80 Feet Road, Near Big Bazaar, 6th ...</td>\n",
              "      <td>Spice Elephant</td>\n",
              "      <td>True</td>\n",
              "      <td>False</td>\n",
              "      <td>4.1/5</td>\n",
              "      <td>787</td>\n",
              "      <td>080 41714161</td>\n",
              "      <td>Banashankari</td>\n",
              "      <td>Casual Dining</td>\n",
              "      <td>Momos, Lunch Buffet, Chocolate Nirvana, Thai G...</td>\n",
              "      <td>Chinese, North Indian, Thai</td>\n",
              "      <td>800.0</td>\n",
              "      <td>[('Rated 4.0', 'RATED\\n  Had been here for din...</td>\n",
              "      <td>[]</td>\n",
              "      <td>Buffet</td>\n",
              "      <td>Banashankari</td>\n",
              "    </tr>\n",
              "    <tr>\n",
              "      <th>2</th>\n",
              "      <td>https://www.zomato.com/SanchurroBangalore?cont...</td>\n",
              "      <td>1112, Next to KIMS Medical College, 17th Cross...</td>\n",
              "      <td>San Churro Cafe</td>\n",
              "      <td>True</td>\n",
              "      <td>False</td>\n",
              "      <td>3.8/5</td>\n",
              "      <td>918</td>\n",
              "      <td>+91 9663487993</td>\n",
              "      <td>Banashankari</td>\n",
              "      <td>Cafe, Casual Dining</td>\n",
              "      <td>Churros, Cannelloni, Minestrone Soup, Hot Choc...</td>\n",
              "      <td>Cafe, Mexican, Italian</td>\n",
              "      <td>800.0</td>\n",
              "      <td>[('Rated 3.0', \"RATED\\n  Ambience is not that ...</td>\n",
              "      <td>[]</td>\n",
              "      <td>Buffet</td>\n",
              "      <td>Banashankari</td>\n",
              "    </tr>\n",
              "    <tr>\n",
              "      <th>3</th>\n",
              "      <td>https://www.zomato.com/bangalore/addhuri-udupi...</td>\n",
              "      <td>1st Floor, Annakuteera, 3rd Stage, Banashankar...</td>\n",
              "      <td>Addhuri Udupi Bhojana</td>\n",
              "      <td>False</td>\n",
              "      <td>False</td>\n",
              "      <td>3.7/5</td>\n",
              "      <td>88</td>\n",
              "      <td>+91 9620009302</td>\n",
              "      <td>Banashankari</td>\n",
              "      <td>Quick Bites</td>\n",
              "      <td>Masala Dosa</td>\n",
              "      <td>South Indian, North Indian</td>\n",
              "      <td>300.0</td>\n",
              "      <td>[('Rated 4.0', \"RATED\\n  Great food and proper...</td>\n",
              "      <td>[]</td>\n",
              "      <td>Buffet</td>\n",
              "      <td>Banashankari</td>\n",
              "    </tr>\n",
              "    <tr>\n",
              "      <th>4</th>\n",
              "      <td>https://www.zomato.com/bangalore/grand-village...</td>\n",
              "      <td>10, 3rd Floor, Lakshmi Associates, Gandhi Baza...</td>\n",
              "      <td>Grand Village</td>\n",
              "      <td>False</td>\n",
              "      <td>False</td>\n",
              "      <td>3.8/5</td>\n",
              "      <td>166</td>\n",
              "      <td>+91 8026612447\r\n",
              "+91 9901210005</td>\n",
              "      <td>Basavanagudi</td>\n",
              "      <td>Casual Dining</td>\n",
              "      <td>Panipuri, Gol Gappe</td>\n",
              "      <td>North Indian, Rajasthani</td>\n",
              "      <td>600.0</td>\n",
              "      <td>[('Rated 4.0', 'RATED\\n  Very good restaurant ...</td>\n",
              "      <td>[]</td>\n",
              "      <td>Buffet</td>\n",
              "      <td>Banashankari</td>\n",
              "    </tr>\n",
              "  </tbody>\n",
              "</table>\n",
              "</div>"
            ],
            "text/plain": [
              "                                                 url  ...          Area\n",
              "0  https://www.zomato.com/bangalore/jalsa-banasha...  ...  Banashankari\n",
              "1  https://www.zomato.com/bangalore/spice-elephan...  ...  Banashankari\n",
              "2  https://www.zomato.com/SanchurroBangalore?cont...  ...  Banashankari\n",
              "3  https://www.zomato.com/bangalore/addhuri-udupi...  ...  Banashankari\n",
              "4  https://www.zomato.com/bangalore/grand-village...  ...  Banashankari\n",
              "\n",
              "[5 rows x 17 columns]"
            ]
          },
          "metadata": {},
          "execution_count": 16
        }
      ]
    },
    {
      "cell_type": "code",
      "metadata": {
        "id": "0rZxMDGWu_aN"
      },
      "source": [],
      "execution_count": null,
      "outputs": []
    },
    {
      "cell_type": "markdown",
      "metadata": {
        "id": "pM36rACSBrCT"
      },
      "source": [
        "### Try regex on the rate feature"
      ]
    },
    {
      "cell_type": "markdown",
      "metadata": {
        "id": "-A6ZGu1-aSl9"
      },
      "source": [
        "For the rate feature you will have to first extract the rate from the string which looks like 3.7/5 and then convert into a number"
      ]
    },
    {
      "cell_type": "code",
      "metadata": {
        "colab": {
          "base_uri": "https://localhost:8080/"
        },
        "id": "LzDqLey9aSl9",
        "outputId": "13016647-ddbf-46b8-f229-1ac45735255a"
      },
      "source": [
        "type('rate')"
      ],
      "execution_count": null,
      "outputs": [
        {
          "output_type": "execute_result",
          "data": {
            "text/plain": [
              "str"
            ]
          },
          "metadata": {},
          "execution_count": 17
        }
      ]
    },
    {
      "cell_type": "markdown",
      "metadata": {
        "id": "vXxJgicfaSl9"
      },
      "source": [
        "There are two ways of extracting the rate out of the string .For example we only want 3.7 from 3.7/5\n",
        "\n",
        "- Using regex we can just take the first 3 digits including the '.'. Build a regex pattern which identifies stings following the pattern of 'digit- . -digit'..this will represent 3.7\n",
        "- ALternatively we can use string manipulation using str.split where u split the string by ' / ' and seperate t into two columns.Drop the second one\n",
        "- Apply numeric conversion on the first columns"
      ]
    },
    {
      "cell_type": "code",
      "metadata": {
        "id": "ZpUYZ0UOaSmD"
      },
      "source": [],
      "execution_count": null,
      "outputs": []
    },
    {
      "cell_type": "markdown",
      "metadata": {
        "id": "pWRAUTbbGfc5"
      },
      "source": [
        "change rate to rating and remove the \"/5\""
      ]
    },
    {
      "cell_type": "code",
      "metadata": {
        "colab": {
          "base_uri": "https://localhost:8080/"
        },
        "id": "lzVsVVXPGl6f",
        "outputId": "cef4f038-ce77-4f47-a3d2-26814456c9e2"
      },
      "source": [
        "tp.rate=tp.rate.str.replace(\"/5\",\"\")\n",
        "tp.rate.value_counts()"
      ],
      "execution_count": null,
      "outputs": [
        {
          "output_type": "execute_result",
          "data": {
            "text/plain": [
              "NEW     2208\n",
              "3.9     2098\n",
              "3.8     2022\n",
              "3.7     2011\n",
              "3.9     1874\n",
              "        ... \n",
              "2.0        7\n",
              "2.2        7\n",
              "2.0        4\n",
              "1.8        3\n",
              "1.8        2\n",
              "Name: rate, Length: 64, dtype: int64"
            ]
          },
          "metadata": {},
          "execution_count": 18
        }
      ]
    },
    {
      "cell_type": "markdown",
      "metadata": {
        "id": "Qxw-wx7_Jb_9"
      },
      "source": [
        "Let replace New returants and  \"-\" with a rating of nan so we can convert the coloum to a float type"
      ]
    },
    {
      "cell_type": "code",
      "metadata": {
        "id": "1dHRnHRWJpC9"
      },
      "source": [
        "import numpy as np\n",
        "\n",
        "tp =tp.replace({'rate': {'NEW': np.nan, '-': np.nan}})"
      ],
      "execution_count": null,
      "outputs": []
    },
    {
      "cell_type": "code",
      "metadata": {
        "id": "3bAmLTx0BrCV"
      },
      "source": [
        "tp.rate=tp.rate.astype('float64')"
      ],
      "execution_count": null,
      "outputs": []
    },
    {
      "cell_type": "code",
      "metadata": {
        "id": "LjExFOAr2Im5"
      },
      "source": [
        "from plotnine import ggplot, geom_bar, aes, stat_smooth, facet_wrap,coord_flip,geom_line\n"
      ],
      "execution_count": null,
      "outputs": []
    },
    {
      "cell_type": "code",
      "metadata": {
        "colab": {
          "base_uri": "https://localhost:8080/",
          "height": 499
        },
        "id": "UCcCCRMLvA1F",
        "outputId": "3d7f9076-b94e-433a-b210-8e981828ab0a"
      },
      "source": [
        "(ggplot(tp, aes('Res_Type', 'votes'))+ geom_bar(stat=\"summary\")+ coord_flip())"
      ],
      "execution_count": null,
      "outputs": [
        {
          "output_type": "stream",
          "name": "stderr",
          "text": [
            "/usr/local/lib/python3.7/dist-packages/plotnine/utils.py:1246: FutureWarning: is_categorical is deprecated and will be removed in a future version.  Use is_categorical_dtype instead\n",
            "  if pdtypes.is_categorical(arr):\n"
          ]
        },
        {
          "output_type": "display_data",
          "data": {
            "image/png": "[encoded data removed]",
            "text/plain": [
              "<Figure size 640x480 with 1 Axes>"
            ]
          },
          "metadata": {}
        },
        {
          "output_type": "execute_result",
          "data": {
            "text/plain": [
              "<ggplot: (8781106702145)>"
            ]
          },
          "metadata": {},
          "execution_count": 22
        }
      ]
    },
    {
      "cell_type": "markdown",
      "metadata": {
        "id": "-pjd_cPOxcAe"
      },
      "source": [
        "From this plot we can see clubs/pubs and bars get the higest amount of reviews which we can possibly corelate with these places having higher footfall and also to the fact that zomato gold / zomato pro gives 2+2 on drinks and the users are later on prompted to give a review.\n",
        "\n",
        "the same theory holds true when looking at the least reviews also which are dessert places which usually dont have zomato gold/ pro benifits and also usually tend to have lower footfall\n"
      ]
    },
    {
      "cell_type": "code",
      "metadata": {
        "colab": {
          "base_uri": "https://localhost:8080/",
          "height": 520
        },
        "id": "aqK8geh22i9O",
        "outputId": "87d14d91-9347-47af-9b61-8ad0f7f7d37f"
      },
      "source": [
        "temp = tp[tp['rate'].notna()]\n",
        "temp= temp[temp.rate != 0]\n",
        "\n",
        "(ggplot(temp, aes('Approx_cost', 'rate'))+ geom_line()+ facet_wrap('~Res_Type'))"
      ],
      "execution_count": null,
      "outputs": [
        {
          "output_type": "stream",
          "name": "stderr",
          "text": [
            "/usr/local/lib/python3.7/dist-packages/plotnine/geoms/geom_path.py:75: PlotnineWarning: geom_path: Removed 9 rows containing missing values.\n",
            "  warn(msg.format(n1-n2), PlotnineWarning)\n"
          ]
        },
        {
          "output_type": "display_data",
          "data": {
            "image/png": "[encoded data removed]",
            "text/plain": [
              "<Figure size 640x480 with 7 Axes>"
            ]
          },
          "metadata": {}
        },
        {
          "output_type": "execute_result",
          "data": {
            "text/plain": [
              "<ggplot: (8781096485097)>"
            ]
          },
          "metadata": {},
          "execution_count": 23
        }
      ]
    },
    {
      "cell_type": "markdown",
      "metadata": {
        "id": "uuA64yug8Qxy"
      },
      "source": [
        "We dont see any clear trend of rating with the approx cost for 2 but one definate trend is the amount of noise we see in lower price ranges\n",
        "\n",
        "from which we can conclude the higher priced places mantain a miniumum lvel of service actoss almost all categories  while for lower prices its as good as a hit or miss, or paybe some other factor might be influencing the trend there.\n"
      ]
    },
    {
      "cell_type": "code",
      "metadata": {
        "colab": {
          "base_uri": "https://localhost:8080/",
          "height": 535
        },
        "id": "01Bsb5V7_Dx7",
        "outputId": "b49edbe6-ca43-442c-f2b0-40235b368ce9"
      },
      "source": [
        "(ggplot(tp, aes('Res_Type', 'Approx_cost'))+ geom_bar(stat=\"summary\")+ coord_flip())"
      ],
      "execution_count": null,
      "outputs": [
        {
          "output_type": "stream",
          "name": "stderr",
          "text": [
            "/usr/local/lib/python3.7/dist-packages/plotnine/utils.py:1246: FutureWarning: is_categorical is deprecated and will be removed in a future version.  Use is_categorical_dtype instead\n",
            "  if pdtypes.is_categorical(arr):\n",
            "/usr/local/lib/python3.7/dist-packages/plotnine/layer.py:360: PlotnineWarning: stat_summary : Removed 346 rows containing non-finite values.\n",
            "  data = self.stat.compute_layer(data, params, layout)\n"
          ]
        },
        {
          "output_type": "display_data",
          "data": {
            "image/png": "[encoded data removed]",
            "text/plain": [
              "<Figure size 640x480 with 1 Axes>"
            ]
          },
          "metadata": {}
        },
        {
          "output_type": "execute_result",
          "data": {
            "text/plain": [
              "<ggplot: (8781096198457)>"
            ]
          },
          "metadata": {},
          "execution_count": 24
        }
      ]
    },
    {
      "cell_type": "markdown",
      "metadata": {
        "id": "SpjjmAbgCkt6"
      },
      "source": [
        "we can see that rhe average costs of buffets , and places who primaraly serve alcohol have the higest cost for 2\n",
        "\n",
        "another intresting inference we can draw is that as on average a dineout costs almost double of a buffets, we can say that in genral buffests are charging coustomers almost double of what they eat normally .\n"
      ]
    },
    {
      "cell_type": "code",
      "metadata": {
        "colab": {
          "base_uri": "https://localhost:8080/",
          "height": 500
        },
        "id": "uw_Y1Ws1B0dB",
        "outputId": "04ee09b6-775f-4b6f-d2b8-6f45bae43728"
      },
      "source": [
        "(ggplot(temp, aes('Approx_cost', 'votes'))+ geom_line())"
      ],
      "execution_count": null,
      "outputs": [
        {
          "output_type": "stream",
          "name": "stderr",
          "text": [
            "/usr/local/lib/python3.7/dist-packages/plotnine/geoms/geom_path.py:75: PlotnineWarning: geom_path: Removed 247 rows containing missing values.\n",
            "  warn(msg.format(n1-n2), PlotnineWarning)\n"
          ]
        },
        {
          "output_type": "display_data",
          "data": {
            "image/png": "[encoded data removed]",
            "text/plain": [
              "<Figure size 640x480 with 1 Axes>"
            ]
          },
          "metadata": {}
        },
        {
          "output_type": "execute_result",
          "data": {
            "text/plain": [
              "<ggplot: (8781095999101)>"
            ]
          },
          "metadata": {},
          "execution_count": 25
        }
      ]
    },
    {
      "cell_type": "markdown",
      "metadata": {
        "id": "rCyIF1kkDYyF"
      },
      "source": [
        "from this graph we can see that there is no consistency in the amout of votes on ratings with price but we can see a few peeks wich would imply that these are the sweetspots for cost for 2 which see the higest footfall\n"
      ]
    },
    {
      "cell_type": "code",
      "metadata": {
        "id": "4IMuzrBBBrCG"
      },
      "source": [
        "## EDA with some basic visualisation\n",
        "## you can use padas in in built visualisation or ggplot for python using plotnine   library"
      ],
      "execution_count": null,
      "outputs": []
    },
    {
      "cell_type": "code",
      "metadata": {
        "id": "eF5on2YNBrCH",
        "colab": {
          "base_uri": "https://localhost:8080/"
        },
        "outputId": "34c64fa1-a46a-4bbe-fa9b-4e52c3e16160"
      },
      "source": [
        "tp.isnull().sum()\n"
      ],
      "execution_count": null,
      "outputs": [
        {
          "output_type": "execute_result",
          "data": {
            "text/plain": [
              "url                 0\n",
              "address             0\n",
              "name                0\n",
              "online_order        0\n",
              "book_table          0\n",
              "rate            10052\n",
              "votes               0\n",
              "phone            1208\n",
              "location           21\n",
              "cus_type          227\n",
              "dish_liked      28078\n",
              "cuisines           45\n",
              "Approx_cost       346\n",
              "reviews_list        0\n",
              "menu_item           0\n",
              "Res_Type            0\n",
              "Area                0\n",
              "dtype: int64"
            ]
          },
          "metadata": {},
          "execution_count": 27
        }
      ]
    },
    {
      "cell_type": "code",
      "metadata": {
        "id": "PlNFCI2taSl8",
        "colab": {
          "base_uri": "https://localhost:8080/"
        },
        "outputId": "3fae8c37-011b-4616-9f96-a66dc359a749"
      },
      "source": [
        "# Missing value\n",
        "\n",
        "tp.isnull().mean()\n"
      ],
      "execution_count": null,
      "outputs": [
        {
          "output_type": "execute_result",
          "data": {
            "text/plain": [
              "url             0.000000\n",
              "address         0.000000\n",
              "name            0.000000\n",
              "online_order    0.000000\n",
              "book_table      0.000000\n",
              "rate            0.194365\n",
              "votes           0.000000\n",
              "phone           0.023358\n",
              "location        0.000406\n",
              "cus_type        0.004389\n",
              "dish_liked      0.542916\n",
              "cuisines        0.000870\n",
              "Approx_cost     0.006690\n",
              "reviews_list    0.000000\n",
              "menu_item       0.000000\n",
              "Res_Type        0.000000\n",
              "Area            0.000000\n",
              "dtype: float64"
            ]
          },
          "metadata": {},
          "execution_count": 28
        }
      ]
    },
    {
      "cell_type": "code",
      "metadata": {
        "id": "wKfvzwV0D15u"
      },
      "source": [
        "tp.drop(\"dish_liked\", axis=1,inplace=True)\n",
        "tp.drop(\"phone\", axis=1,inplace=True)"
      ],
      "execution_count": null,
      "outputs": []
    },
    {
      "cell_type": "markdown",
      "metadata": {
        "id": "KvibMzkqaSl8"
      },
      "source": [
        "Dish_liked has more than 50% missing values.Lets drop it\n",
        "phone number is also not relevant so lets drop iy"
      ]
    },
    {
      "cell_type": "markdown",
      "metadata": {
        "id": "g7CXKDPGBrCW"
      },
      "source": [
        "## Missing value analysis"
      ]
    },
    {
      "cell_type": "code",
      "metadata": {
        "id": "UBoHOdAkBrCW",
        "colab": {
          "base_uri": "https://localhost:8080/",
          "height": 978
        },
        "outputId": "39b065e7-48b4-4a5c-abce-b543bc94da10"
      },
      "source": [
        "tp[tp.rate.isnull()]"
      ],
      "execution_count": null,
      "outputs": [
        {
          "output_type": "execute_result",
          "data": {
            "text/html": [
              "<div>\n",
              "<style scoped>\n",
              "    .dataframe tbody tr th:only-of-type {\n",
              "        vertical-align: middle;\n",
              "    }\n",
              "\n",
              "    .dataframe tbody tr th {\n",
              "        vertical-align: top;\n",
              "    }\n",
              "\n",
              "    .dataframe thead th {\n",
              "        text-align: right;\n",
              "    }\n",
              "</style>\n",
              "<table border=\"1\" class=\"dataframe\">\n",
              "  <thead>\n",
              "    <tr style=\"text-align: right;\">\n",
              "      <th></th>\n",
              "      <th>url</th>\n",
              "      <th>address</th>\n",
              "      <th>name</th>\n",
              "      <th>online_order</th>\n",
              "      <th>book_table</th>\n",
              "      <th>rate</th>\n",
              "      <th>votes</th>\n",
              "      <th>location</th>\n",
              "      <th>cus_type</th>\n",
              "      <th>cuisines</th>\n",
              "      <th>Approx_cost</th>\n",
              "      <th>reviews_list</th>\n",
              "      <th>menu_item</th>\n",
              "      <th>Res_Type</th>\n",
              "      <th>Area</th>\n",
              "    </tr>\n",
              "  </thead>\n",
              "  <tbody>\n",
              "    <tr>\n",
              "      <th>72</th>\n",
              "      <td>https://www.zomato.com/bangalore/spicy-tandoor...</td>\n",
              "      <td>Opposite ICICi Bank, Hanuman Nagar, Banashanka...</td>\n",
              "      <td>Spicy Tandoor</td>\n",
              "      <td>False</td>\n",
              "      <td>False</td>\n",
              "      <td>NaN</td>\n",
              "      <td>0</td>\n",
              "      <td>Banashankari</td>\n",
              "      <td>Quick Bites</td>\n",
              "      <td>North Indian</td>\n",
              "      <td>150.0</td>\n",
              "      <td>[('Rated 4.0', 'RATED\\n  cost for chicken roll...</td>\n",
              "      <td>[]</td>\n",
              "      <td>Delivery</td>\n",
              "      <td>Banashankari</td>\n",
              "    </tr>\n",
              "    <tr>\n",
              "      <th>75</th>\n",
              "      <td>https://www.zomato.com/bangalore/om-sri-vinaya...</td>\n",
              "      <td>39, S B M Colony, Near-Sita Circle, 1st Stage,...</td>\n",
              "      <td>Om Sri Vinayaka Chats</td>\n",
              "      <td>False</td>\n",
              "      <td>False</td>\n",
              "      <td>NaN</td>\n",
              "      <td>0</td>\n",
              "      <td>Banashankari</td>\n",
              "      <td>Takeaway, Delivery</td>\n",
              "      <td>Street Food, Fast Food</td>\n",
              "      <td>500.0</td>\n",
              "      <td>[]</td>\n",
              "      <td>[]</td>\n",
              "      <td>Delivery</td>\n",
              "      <td>Banashankari</td>\n",
              "    </tr>\n",
              "    <tr>\n",
              "      <th>84</th>\n",
              "      <td>https://www.zomato.com/bangalore/chill-out-ban...</td>\n",
              "      <td>161/C, 6th Main, 80 Feet Road, Bhuvaneshwari N...</td>\n",
              "      <td>Chill Out</td>\n",
              "      <td>False</td>\n",
              "      <td>False</td>\n",
              "      <td>NaN</td>\n",
              "      <td>0</td>\n",
              "      <td>Banashankari</td>\n",
              "      <td>Quick Bites</td>\n",
              "      <td>South Indian, Chinese</td>\n",
              "      <td>100.0</td>\n",
              "      <td>[('Rated 4.0', 'RATED\\n  Good Location. Small ...</td>\n",
              "      <td>[]</td>\n",
              "      <td>Delivery</td>\n",
              "      <td>Banashankari</td>\n",
              "    </tr>\n",
              "    <tr>\n",
              "      <th>90</th>\n",
              "      <td>https://www.zomato.com/bangalore/me-and-my-cak...</td>\n",
              "      <td>BDA Shopping Complex, 24th Cross Road, Siddann...</td>\n",
              "      <td>Me And My Cake</td>\n",
              "      <td>False</td>\n",
              "      <td>False</td>\n",
              "      <td>NaN</td>\n",
              "      <td>0</td>\n",
              "      <td>Banashankari</td>\n",
              "      <td>Delivery</td>\n",
              "      <td>Bakery, Desserts</td>\n",
              "      <td>500.0</td>\n",
              "      <td>[('Rated 1.0', 'RATED\\n  Do not order anything...</td>\n",
              "      <td>[]</td>\n",
              "      <td>Delivery</td>\n",
              "      <td>Banashankari</td>\n",
              "    </tr>\n",
              "    <tr>\n",
              "      <th>91</th>\n",
              "      <td>https://www.zomato.com/bangalore/sunsadm-banas...</td>\n",
              "      <td>Shop 18 , 3rd cross road,Markandeya Layout, Ba...</td>\n",
              "      <td>Sunsadm</td>\n",
              "      <td>False</td>\n",
              "      <td>False</td>\n",
              "      <td>NaN</td>\n",
              "      <td>0</td>\n",
              "      <td>Banashankari</td>\n",
              "      <td>Takeaway, Delivery</td>\n",
              "      <td>South Indian</td>\n",
              "      <td>400.0</td>\n",
              "      <td>[]</td>\n",
              "      <td>[]</td>\n",
              "      <td>Delivery</td>\n",
              "      <td>Banashankari</td>\n",
              "    </tr>\n",
              "    <tr>\n",
              "      <th>...</th>\n",
              "      <td>...</td>\n",
              "      <td>...</td>\n",
              "      <td>...</td>\n",
              "      <td>...</td>\n",
              "      <td>...</td>\n",
              "      <td>...</td>\n",
              "      <td>...</td>\n",
              "      <td>...</td>\n",
              "      <td>...</td>\n",
              "      <td>...</td>\n",
              "      <td>...</td>\n",
              "      <td>...</td>\n",
              "      <td>...</td>\n",
              "      <td>...</td>\n",
              "      <td>...</td>\n",
              "    </tr>\n",
              "    <tr>\n",
              "      <th>51644</th>\n",
              "      <td>https://www.zomato.com/bangalore/punjabi-thadk...</td>\n",
              "      <td>7/3, ASK Tower, Kundanahalli Gate, Next to Bat...</td>\n",
              "      <td>Punjabi Thadka</td>\n",
              "      <td>False</td>\n",
              "      <td>False</td>\n",
              "      <td>NaN</td>\n",
              "      <td>0</td>\n",
              "      <td>Brookefield</td>\n",
              "      <td>Quick Bites</td>\n",
              "      <td>North Indian</td>\n",
              "      <td>400.0</td>\n",
              "      <td>[]</td>\n",
              "      <td>[]</td>\n",
              "      <td>Dine-out</td>\n",
              "      <td>Whitefield</td>\n",
              "    </tr>\n",
              "    <tr>\n",
              "      <th>51675</th>\n",
              "      <td>https://www.zomato.com/bangalore/topsy-turvey-...</td>\n",
              "      <td>2E2, 4th Cross Road, Devasandra Industrial Est...</td>\n",
              "      <td>Topsy Turvey</td>\n",
              "      <td>False</td>\n",
              "      <td>False</td>\n",
              "      <td>NaN</td>\n",
              "      <td>0</td>\n",
              "      <td>Whitefield</td>\n",
              "      <td>Bar</td>\n",
              "      <td>Finger Food</td>\n",
              "      <td>900.0</td>\n",
              "      <td>[('Rated 4.0', \"RATED\\n  A divine joint for Fl...</td>\n",
              "      <td>[]</td>\n",
              "      <td>Drinks &amp; nightlife</td>\n",
              "      <td>Whitefield</td>\n",
              "    </tr>\n",
              "    <tr>\n",
              "      <th>51710</th>\n",
              "      <td>https://www.zomato.com/bangalore/topsy-turvey-...</td>\n",
              "      <td>2E2, 4th Cross Road, Devasandra Industrial Est...</td>\n",
              "      <td>Topsy Turvey</td>\n",
              "      <td>False</td>\n",
              "      <td>False</td>\n",
              "      <td>NaN</td>\n",
              "      <td>0</td>\n",
              "      <td>Whitefield</td>\n",
              "      <td>Bar</td>\n",
              "      <td>Finger Food</td>\n",
              "      <td>900.0</td>\n",
              "      <td>[('Rated 4.0', \"RATED\\n  A divine joint for Fl...</td>\n",
              "      <td>[]</td>\n",
              "      <td>Pubs and bars</td>\n",
              "      <td>Whitefield</td>\n",
              "    </tr>\n",
              "    <tr>\n",
              "      <th>51713</th>\n",
              "      <td>https://www.zomato.com/bangalore/vinod-bar-and...</td>\n",
              "      <td>Number 10, Garudachar Palya, Mahadevapura, Whi...</td>\n",
              "      <td>Vinod Bar And Restaurant</td>\n",
              "      <td>False</td>\n",
              "      <td>False</td>\n",
              "      <td>NaN</td>\n",
              "      <td>0</td>\n",
              "      <td>Whitefield</td>\n",
              "      <td>Bar</td>\n",
              "      <td>Finger Food</td>\n",
              "      <td>600.0</td>\n",
              "      <td>[]</td>\n",
              "      <td>[]</td>\n",
              "      <td>Pubs and bars</td>\n",
              "      <td>Whitefield</td>\n",
              "    </tr>\n",
              "    <tr>\n",
              "      <th>51714</th>\n",
              "      <td>https://www.zomato.com/bangalore/plunge-sherat...</td>\n",
              "      <td>Sheraton Grand Bengaluru Whitefield Hotel &amp; Co...</td>\n",
              "      <td>Plunge - Sheraton Grand Bengaluru Whitefield H...</td>\n",
              "      <td>False</td>\n",
              "      <td>False</td>\n",
              "      <td>NaN</td>\n",
              "      <td>0</td>\n",
              "      <td>Whitefield</td>\n",
              "      <td>Bar</td>\n",
              "      <td>Finger Food</td>\n",
              "      <td>2000.0</td>\n",
              "      <td>[]</td>\n",
              "      <td>[]</td>\n",
              "      <td>Pubs and bars</td>\n",
              "      <td>Whitefield</td>\n",
              "    </tr>\n",
              "  </tbody>\n",
              "</table>\n",
              "<p>10052 rows × 15 columns</p>\n",
              "</div>"
            ],
            "text/plain": [
              "                                                     url  ...          Area\n",
              "72     https://www.zomato.com/bangalore/spicy-tandoor...  ...  Banashankari\n",
              "75     https://www.zomato.com/bangalore/om-sri-vinaya...  ...  Banashankari\n",
              "84     https://www.zomato.com/bangalore/chill-out-ban...  ...  Banashankari\n",
              "90     https://www.zomato.com/bangalore/me-and-my-cak...  ...  Banashankari\n",
              "91     https://www.zomato.com/bangalore/sunsadm-banas...  ...  Banashankari\n",
              "...                                                  ...  ...           ...\n",
              "51644  https://www.zomato.com/bangalore/punjabi-thadk...  ...    Whitefield\n",
              "51675  https://www.zomato.com/bangalore/topsy-turvey-...  ...    Whitefield\n",
              "51710  https://www.zomato.com/bangalore/topsy-turvey-...  ...    Whitefield\n",
              "51713  https://www.zomato.com/bangalore/vinod-bar-and...  ...    Whitefield\n",
              "51714  https://www.zomato.com/bangalore/plunge-sherat...  ...    Whitefield\n",
              "\n",
              "[10052 rows x 15 columns]"
            ]
          },
          "metadata": {},
          "execution_count": 30
        }
      ]
    },
    {
      "cell_type": "markdown",
      "metadata": {
        "id": "c1i41KS5jwCj"
      },
      "source": [
        "here we can see that a lot of missing ratings places are places which dont have table booking or online ordering hence they re not relevant for analysison on zomato's platform so lets drop coloums where both are false\n"
      ]
    },
    {
      "cell_type": "markdown",
      "metadata": {
        "id": "cncTbAIgBrCW"
      },
      "source": [
        "You can try using EDA here  .Create dummy vars for missing columns .for example missing_rate can have 1 for rate values which are missing and 0 for others.YOu can the try using bar plots/count plots  etc with missing in the X axis.YOu can also use cross-tabulations / pivot tables etc if you are taking the Panda route"
      ]
    },
    {
      "cell_type": "markdown",
      "metadata": {
        "id": "FhMu2WH_o6ln"
      },
      "source": [
        "creating ratings from review list by taking the rating avg"
      ]
    },
    {
      "cell_type": "code",
      "metadata": {
        "id": "5a1QuqMKo1rv"
      },
      "source": [
        "import math\n",
        "temp_rate=[]\n",
        "for index,row in tp.iterrows():\n",
        "  if math.isnan(row[\"rate\"]):\n",
        "\n",
        "    list_temp=eval(row[\"reviews_list\"])\n",
        "    if len(list_temp)!=0:\n",
        "      reating_temp=0\n",
        "      counter=0\n",
        "      for i in list_temp:\n",
        "        reating_temp=reating_temp+float(i[0][-3:])\n",
        "        counter=counter + 1\n",
        "      reating_temp=reating_temp/counter\n",
        "      temp_rate.append(reating_temp)\n",
        "    else:\n",
        "      temp_rate.append(row[\"rate\"])\n",
        "  else:\n",
        "    temp_rate.append(row[\"rate\"])\n",
        "\n",
        "tp[\"rate\"]=temp_rate\n"
      ],
      "execution_count": null,
      "outputs": []
    },
    {
      "cell_type": "markdown",
      "metadata": {
        "id": "6TTtbrc8BrCW"
      },
      "source": [
        "## Missing value treatment"
      ]
    },
    {
      "cell_type": "code",
      "metadata": {
        "id": "Q37Uc_nwBrCc"
      },
      "source": [
        "tp.drop(tp[(tp.rate.isnull()) & (tp['online_order'] == False) & (tp['book_table'] == False)].index,inplace=True)"
      ],
      "execution_count": null,
      "outputs": []
    },
    {
      "cell_type": "code",
      "metadata": {
        "colab": {
          "base_uri": "https://localhost:8080/",
          "height": 1000
        },
        "id": "sVDrytu_lJdu",
        "outputId": "4622891c-99a0-4de8-ec85-b67345750832"
      },
      "source": [
        "tp[tp.rate.isnull()]"
      ],
      "execution_count": null,
      "outputs": [
        {
          "output_type": "execute_result",
          "data": {
            "text/html": [
              "<div>\n",
              "<style scoped>\n",
              "    .dataframe tbody tr th:only-of-type {\n",
              "        vertical-align: middle;\n",
              "    }\n",
              "\n",
              "    .dataframe tbody tr th {\n",
              "        vertical-align: top;\n",
              "    }\n",
              "\n",
              "    .dataframe thead th {\n",
              "        text-align: right;\n",
              "    }\n",
              "</style>\n",
              "<table border=\"1\" class=\"dataframe\">\n",
              "  <thead>\n",
              "    <tr style=\"text-align: right;\">\n",
              "      <th></th>\n",
              "      <th>url</th>\n",
              "      <th>address</th>\n",
              "      <th>name</th>\n",
              "      <th>online_order</th>\n",
              "      <th>book_table</th>\n",
              "      <th>rate</th>\n",
              "      <th>votes</th>\n",
              "      <th>location</th>\n",
              "      <th>cus_type</th>\n",
              "      <th>cuisines</th>\n",
              "      <th>Approx_cost</th>\n",
              "      <th>reviews_list</th>\n",
              "      <th>menu_item</th>\n",
              "      <th>Res_Type</th>\n",
              "      <th>Area</th>\n",
              "    </tr>\n",
              "  </thead>\n",
              "  <tbody>\n",
              "    <tr>\n",
              "      <th>276</th>\n",
              "      <td>https://www.zomato.com/bangalore/ssv-upahar-ja...</td>\n",
              "      <td>14/1, 8th Fmain, 3rd Block, Jayanagar, Bangalore</td>\n",
              "      <td>SSV Upahar</td>\n",
              "      <td>True</td>\n",
              "      <td>False</td>\n",
              "      <td>NaN</td>\n",
              "      <td>0</td>\n",
              "      <td>Jayanagar</td>\n",
              "      <td>Quick Bites</td>\n",
              "      <td>South Indian, Chinese</td>\n",
              "      <td>300.0</td>\n",
              "      <td>[]</td>\n",
              "      <td>['Idli', 'Vada', 'Thatte Idli', 'Thatte Vada',...</td>\n",
              "      <td>Delivery</td>\n",
              "      <td>Banashankari</td>\n",
              "    </tr>\n",
              "    <tr>\n",
              "      <th>289</th>\n",
              "      <td>https://www.zomato.com/bangalore/south-cool-po...</td>\n",
              "      <td>Near Metro Station R.v.Road, Basavanagudi, Ban...</td>\n",
              "      <td>South Cool Point</td>\n",
              "      <td>True</td>\n",
              "      <td>False</td>\n",
              "      <td>NaN</td>\n",
              "      <td>0</td>\n",
              "      <td>Basavanagudi</td>\n",
              "      <td>Dessert Parlor</td>\n",
              "      <td>Beverages</td>\n",
              "      <td>100.0</td>\n",
              "      <td>[]</td>\n",
              "      <td>[]</td>\n",
              "      <td>Delivery</td>\n",
              "      <td>Banashankari</td>\n",
              "    </tr>\n",
              "    <tr>\n",
              "      <th>306</th>\n",
              "      <td>https://www.zomato.com/bangalore/donne-biriyan...</td>\n",
              "      <td>52, Dayanad Sagar, College Road, Teachers Colo...</td>\n",
              "      <td>Donne Biriyani combos</td>\n",
              "      <td>True</td>\n",
              "      <td>False</td>\n",
              "      <td>NaN</td>\n",
              "      <td>0</td>\n",
              "      <td>Kumaraswamy Layout</td>\n",
              "      <td>Casual Dining</td>\n",
              "      <td>Biryani</td>\n",
              "      <td>400.0</td>\n",
              "      <td>[]</td>\n",
              "      <td>[]</td>\n",
              "      <td>Delivery</td>\n",
              "      <td>Banashankari</td>\n",
              "    </tr>\n",
              "    <tr>\n",
              "      <th>436</th>\n",
              "      <td>https://www.zomato.com/bangalore/sri-manjunath...</td>\n",
              "      <td>3rd Main Rd, Arehalli, Hosakerehalli, Uttaraha...</td>\n",
              "      <td>Sri Manjunatha Tandoori Corner</td>\n",
              "      <td>True</td>\n",
              "      <td>False</td>\n",
              "      <td>NaN</td>\n",
              "      <td>0</td>\n",
              "      <td>Uttarahalli</td>\n",
              "      <td>Quick Bites</td>\n",
              "      <td>Mughlai</td>\n",
              "      <td>300.0</td>\n",
              "      <td>[]</td>\n",
              "      <td>[]</td>\n",
              "      <td>Delivery</td>\n",
              "      <td>Banashankari</td>\n",
              "    </tr>\n",
              "    <tr>\n",
              "      <th>439</th>\n",
              "      <td>https://www.zomato.com/bangalore/cutcakes-kuma...</td>\n",
              "      <td>30, 1st Main Road, Havish Nilaya, Samruddhi En...</td>\n",
              "      <td>Cutcakes</td>\n",
              "      <td>True</td>\n",
              "      <td>False</td>\n",
              "      <td>NaN</td>\n",
              "      <td>0</td>\n",
              "      <td>Kumaraswamy Layout</td>\n",
              "      <td>Takeaway, Delivery</td>\n",
              "      <td>Bakery</td>\n",
              "      <td>300.0</td>\n",
              "      <td>[]</td>\n",
              "      <td>['Chocolate Truffle Cake [500 grams]', 'Chocol...</td>\n",
              "      <td>Delivery</td>\n",
              "      <td>Banashankari</td>\n",
              "    </tr>\n",
              "    <tr>\n",
              "      <th>...</th>\n",
              "      <td>...</td>\n",
              "      <td>...</td>\n",
              "      <td>...</td>\n",
              "      <td>...</td>\n",
              "      <td>...</td>\n",
              "      <td>...</td>\n",
              "      <td>...</td>\n",
              "      <td>...</td>\n",
              "      <td>...</td>\n",
              "      <td>...</td>\n",
              "      <td>...</td>\n",
              "      <td>...</td>\n",
              "      <td>...</td>\n",
              "      <td>...</td>\n",
              "      <td>...</td>\n",
              "    </tr>\n",
              "    <tr>\n",
              "      <th>51506</th>\n",
              "      <td>https://www.zomato.com/bangalore/pans-aroma-wh...</td>\n",
              "      <td>Shop 45, 1st Floor, Lakshmi Narayana Layout, N...</td>\n",
              "      <td>Pan's Aroma</td>\n",
              "      <td>True</td>\n",
              "      <td>False</td>\n",
              "      <td>NaN</td>\n",
              "      <td>0</td>\n",
              "      <td>Whitefield</td>\n",
              "      <td>Quick Bites</td>\n",
              "      <td>Bengali, Biryani, North Indian, Chinese, Fast ...</td>\n",
              "      <td>400.0</td>\n",
              "      <td>[]</td>\n",
              "      <td>[]</td>\n",
              "      <td>Dine-out</td>\n",
              "      <td>Whitefield</td>\n",
              "    </tr>\n",
              "    <tr>\n",
              "      <th>51507</th>\n",
              "      <td>https://www.zomato.com/bangalore/curries-and-p...</td>\n",
              "      <td>PWD Road, BK Abbaiah Layout, Akash Nagar, B Na...</td>\n",
              "      <td>Curries and Pickles</td>\n",
              "      <td>True</td>\n",
              "      <td>False</td>\n",
              "      <td>NaN</td>\n",
              "      <td>0</td>\n",
              "      <td>Whitefield</td>\n",
              "      <td>Quick Bites</td>\n",
              "      <td>Andhra, North Indian, Biryani</td>\n",
              "      <td>250.0</td>\n",
              "      <td>[]</td>\n",
              "      <td>['Andhra Style Vegetable Meal', 'Andhra Non Ve...</td>\n",
              "      <td>Dine-out</td>\n",
              "      <td>Whitefield</td>\n",
              "    </tr>\n",
              "    <tr>\n",
              "      <th>51508</th>\n",
              "      <td>https://www.zomato.com/bangalore/curries-and-p...</td>\n",
              "      <td>270, Channasandra Main Road, Near Hope Form Si...</td>\n",
              "      <td>Curries And Pickles</td>\n",
              "      <td>True</td>\n",
              "      <td>False</td>\n",
              "      <td>NaN</td>\n",
              "      <td>0</td>\n",
              "      <td>Whitefield</td>\n",
              "      <td>Quick Bites</td>\n",
              "      <td>Andhra, North Indian, Biryani</td>\n",
              "      <td>250.0</td>\n",
              "      <td>[]</td>\n",
              "      <td>['Boneless Chicken 65', 'Boneless Chilli Chick...</td>\n",
              "      <td>Dine-out</td>\n",
              "      <td>Whitefield</td>\n",
              "    </tr>\n",
              "    <tr>\n",
              "      <th>51511</th>\n",
              "      <td>https://www.zomato.com/bangalore/kitchens-of-c...</td>\n",
              "      <td>Prestige Shantiniketan, Destination Food Court...</td>\n",
              "      <td>Kitchens Of Chettinad</td>\n",
              "      <td>True</td>\n",
              "      <td>False</td>\n",
              "      <td>NaN</td>\n",
              "      <td>0</td>\n",
              "      <td>Whitefield</td>\n",
              "      <td>Quick Bites</td>\n",
              "      <td>South Indian</td>\n",
              "      <td>250.0</td>\n",
              "      <td>[]</td>\n",
              "      <td>['Chicken Biryani', 'Kabab Biryani', 'Egg Koth...</td>\n",
              "      <td>Dine-out</td>\n",
              "      <td>Whitefield</td>\n",
              "    </tr>\n",
              "    <tr>\n",
              "      <th>51587</th>\n",
              "      <td>https://www.zomato.com/bangalore/shrawan-resta...</td>\n",
              "      <td>9, Prashanti Shopping Center, Channasandra, Ka...</td>\n",
              "      <td>Shrawan Restaurant</td>\n",
              "      <td>True</td>\n",
              "      <td>False</td>\n",
              "      <td>NaN</td>\n",
              "      <td>0</td>\n",
              "      <td>Whitefield</td>\n",
              "      <td>Quick Bites</td>\n",
              "      <td>North Indian, Chinese</td>\n",
              "      <td>300.0</td>\n",
              "      <td>[]</td>\n",
              "      <td>['Veg Fried Rice', 'Veg Thali', 'Paneer Butter...</td>\n",
              "      <td>Dine-out</td>\n",
              "      <td>Whitefield</td>\n",
              "    </tr>\n",
              "  </tbody>\n",
              "</table>\n",
              "<p>1568 rows × 15 columns</p>\n",
              "</div>"
            ],
            "text/plain": [
              "                                                     url  ...          Area\n",
              "276    https://www.zomato.com/bangalore/ssv-upahar-ja...  ...  Banashankari\n",
              "289    https://www.zomato.com/bangalore/south-cool-po...  ...  Banashankari\n",
              "306    https://www.zomato.com/bangalore/donne-biriyan...  ...  Banashankari\n",
              "436    https://www.zomato.com/bangalore/sri-manjunath...  ...  Banashankari\n",
              "439    https://www.zomato.com/bangalore/cutcakes-kuma...  ...  Banashankari\n",
              "...                                                  ...  ...           ...\n",
              "51506  https://www.zomato.com/bangalore/pans-aroma-wh...  ...    Whitefield\n",
              "51507  https://www.zomato.com/bangalore/curries-and-p...  ...    Whitefield\n",
              "51508  https://www.zomato.com/bangalore/curries-and-p...  ...    Whitefield\n",
              "51511  https://www.zomato.com/bangalore/kitchens-of-c...  ...    Whitefield\n",
              "51587  https://www.zomato.com/bangalore/shrawan-resta...  ...    Whitefield\n",
              "\n",
              "[1568 rows x 15 columns]"
            ]
          },
          "metadata": {},
          "execution_count": 33
        }
      ]
    },
    {
      "cell_type": "code",
      "metadata": {
        "id": "zaxJH9XEBrCc",
        "colab": {
          "base_uri": "https://localhost:8080/"
        },
        "outputId": "0bae6b97-d5c6-4452-b664-04dbfc39607f"
      },
      "source": [
        "tp.isnull().sum()"
      ],
      "execution_count": null,
      "outputs": [
        {
          "output_type": "execute_result",
          "data": {
            "text/plain": [
              "url                0\n",
              "address            0\n",
              "name               0\n",
              "online_order       0\n",
              "book_table         0\n",
              "rate            1568\n",
              "votes              0\n",
              "location           0\n",
              "cus_type         170\n",
              "cuisines          20\n",
              "Approx_cost      298\n",
              "reviews_list       0\n",
              "menu_item          0\n",
              "Res_Type           0\n",
              "Area               0\n",
              "dtype: int64"
            ]
          },
          "metadata": {},
          "execution_count": 34
        }
      ]
    },
    {
      "cell_type": "markdown",
      "metadata": {
        "id": "OQjJ37BS-zkG"
      },
      "source": [
        "the remaining rows dont have rewiews and by extention ratings so they can be safely dropped\n"
      ]
    },
    {
      "cell_type": "code",
      "metadata": {
        "id": "M2VGCpgQBrCf"
      },
      "source": [
        "tp.dropna(subset = [\"rate\"], inplace=True)"
      ],
      "execution_count": null,
      "outputs": []
    },
    {
      "cell_type": "code",
      "metadata": {
        "id": "lfCl4wf0BrCg",
        "colab": {
          "base_uri": "https://localhost:8080/"
        },
        "outputId": "6547db9b-185d-473b-eb08-a316efb26144"
      },
      "source": [
        "tp.isnull().sum()"
      ],
      "execution_count": null,
      "outputs": [
        {
          "output_type": "execute_result",
          "data": {
            "text/plain": [
              "url               0\n",
              "address           0\n",
              "name              0\n",
              "online_order      0\n",
              "book_table        0\n",
              "rate              0\n",
              "votes             0\n",
              "location          0\n",
              "cus_type        160\n",
              "cuisines         17\n",
              "Approx_cost     298\n",
              "reviews_list      0\n",
              "menu_item         0\n",
              "Res_Type          0\n",
              "Area              0\n",
              "dtype: int64"
            ]
          },
          "metadata": {},
          "execution_count": 36
        }
      ]
    },
    {
      "cell_type": "code",
      "metadata": {
        "colab": {
          "base_uri": "https://localhost:8080/",
          "height": 1000
        },
        "id": "n-b88hadAnqi",
        "outputId": "2411a43b-49b8-4e76-bdfc-e19e346bc76e"
      },
      "source": [
        "tp[tp.Approx_cost.isnull()]"
      ],
      "execution_count": null,
      "outputs": [
        {
          "output_type": "execute_result",
          "data": {
            "text/html": [
              "<div>\n",
              "<style scoped>\n",
              "    .dataframe tbody tr th:only-of-type {\n",
              "        vertical-align: middle;\n",
              "    }\n",
              "\n",
              "    .dataframe tbody tr th {\n",
              "        vertical-align: top;\n",
              "    }\n",
              "\n",
              "    .dataframe thead th {\n",
              "        text-align: right;\n",
              "    }\n",
              "</style>\n",
              "<table border=\"1\" class=\"dataframe\">\n",
              "  <thead>\n",
              "    <tr style=\"text-align: right;\">\n",
              "      <th></th>\n",
              "      <th>url</th>\n",
              "      <th>address</th>\n",
              "      <th>name</th>\n",
              "      <th>online_order</th>\n",
              "      <th>book_table</th>\n",
              "      <th>rate</th>\n",
              "      <th>votes</th>\n",
              "      <th>location</th>\n",
              "      <th>cus_type</th>\n",
              "      <th>cuisines</th>\n",
              "      <th>Approx_cost</th>\n",
              "      <th>reviews_list</th>\n",
              "      <th>menu_item</th>\n",
              "      <th>Res_Type</th>\n",
              "      <th>Area</th>\n",
              "    </tr>\n",
              "  </thead>\n",
              "  <tbody>\n",
              "    <tr>\n",
              "      <th>1795</th>\n",
              "      <td>https://www.zomato.com/bangalore/super-chefs-b...</td>\n",
              "      <td>8/3, Opposite Suryadhoya Convention hall, Bann...</td>\n",
              "      <td>Super Chef's (New Royal treat)</td>\n",
              "      <td>False</td>\n",
              "      <td>False</td>\n",
              "      <td>3.0</td>\n",
              "      <td>0</td>\n",
              "      <td>Bannerghatta Road</td>\n",
              "      <td>Quick Bites</td>\n",
              "      <td>North Indian, Chinese, South Indian</td>\n",
              "      <td>NaN</td>\n",
              "      <td>[('Rated 1.0', 'RATED\\n  Many items were missi...</td>\n",
              "      <td>[]</td>\n",
              "      <td>Delivery</td>\n",
              "      <td>Bannerghatta Road</td>\n",
              "    </tr>\n",
              "    <tr>\n",
              "      <th>3069</th>\n",
              "      <td>https://www.zomato.com/bangalore/super-chefs-b...</td>\n",
              "      <td>8/3, Opposite Suryadhoya Convention hall, Bann...</td>\n",
              "      <td>Super Chef's (New Royal treat)</td>\n",
              "      <td>False</td>\n",
              "      <td>False</td>\n",
              "      <td>3.0</td>\n",
              "      <td>0</td>\n",
              "      <td>Bannerghatta Road</td>\n",
              "      <td>Quick Bites</td>\n",
              "      <td>North Indian, Chinese, South Indian</td>\n",
              "      <td>NaN</td>\n",
              "      <td>[('Rated 1.0', 'RATED\\n  Many items were missi...</td>\n",
              "      <td>[]</td>\n",
              "      <td>Delivery</td>\n",
              "      <td>Basavanagudi</td>\n",
              "    </tr>\n",
              "    <tr>\n",
              "      <th>3774</th>\n",
              "      <td>https://www.zomato.com/bangalore/the-hub-ibis-...</td>\n",
              "      <td>Ibis Bengaluru, Opposite RMZ Ecospace Business...</td>\n",
              "      <td>The Hub - Ibis Bengaluru</td>\n",
              "      <td>False</td>\n",
              "      <td>False</td>\n",
              "      <td>3.9</td>\n",
              "      <td>237</td>\n",
              "      <td>Marathahalli</td>\n",
              "      <td>Bar</td>\n",
              "      <td>Finger Food</td>\n",
              "      <td>NaN</td>\n",
              "      <td>[('Rated 4.0', 'RATED\\n  The Hub is a small ba...</td>\n",
              "      <td>[]</td>\n",
              "      <td>Buffet</td>\n",
              "      <td>Bellandur</td>\n",
              "    </tr>\n",
              "    <tr>\n",
              "      <th>3954</th>\n",
              "      <td>https://www.zomato.com/bangalore/north-indian-...</td>\n",
              "      <td>2610, 27th Main, Near NIFT, HSR Layout, HSR, B...</td>\n",
              "      <td>North Indian Kitchen</td>\n",
              "      <td>False</td>\n",
              "      <td>False</td>\n",
              "      <td>3.2</td>\n",
              "      <td>13</td>\n",
              "      <td>HSR</td>\n",
              "      <td>Takeaway</td>\n",
              "      <td>North Indian</td>\n",
              "      <td>NaN</td>\n",
              "      <td>[('Rated 1.0', 'RATED\\n  Ordered green puri an...</td>\n",
              "      <td>[]</td>\n",
              "      <td>Delivery</td>\n",
              "      <td>Bellandur</td>\n",
              "    </tr>\n",
              "    <tr>\n",
              "      <th>4040</th>\n",
              "      <td>https://www.zomato.com/bangalore/only-parathas...</td>\n",
              "      <td>2610, 27th Main, Near NIFT, HSR Layout, HSR, B...</td>\n",
              "      <td>Only Parathas</td>\n",
              "      <td>False</td>\n",
              "      <td>False</td>\n",
              "      <td>3.3</td>\n",
              "      <td>6</td>\n",
              "      <td>HSR</td>\n",
              "      <td>Takeaway, Delivery</td>\n",
              "      <td>North Indian</td>\n",
              "      <td>NaN</td>\n",
              "      <td>[('Rated 1.0', 'RATED\\n  A bit too spicy, and ...</td>\n",
              "      <td>[]</td>\n",
              "      <td>Delivery</td>\n",
              "      <td>Bellandur</td>\n",
              "    </tr>\n",
              "    <tr>\n",
              "      <th>...</th>\n",
              "      <td>...</td>\n",
              "      <td>...</td>\n",
              "      <td>...</td>\n",
              "      <td>...</td>\n",
              "      <td>...</td>\n",
              "      <td>...</td>\n",
              "      <td>...</td>\n",
              "      <td>...</td>\n",
              "      <td>...</td>\n",
              "      <td>...</td>\n",
              "      <td>...</td>\n",
              "      <td>...</td>\n",
              "      <td>...</td>\n",
              "      <td>...</td>\n",
              "      <td>...</td>\n",
              "    </tr>\n",
              "    <tr>\n",
              "      <th>50940</th>\n",
              "      <td>https://www.zomato.com/bangalore/cinnabon-whit...</td>\n",
              "      <td>Ground Floor, The Forum Neighborhood Mall, Pre...</td>\n",
              "      <td>Cinnabon</td>\n",
              "      <td>False</td>\n",
              "      <td>False</td>\n",
              "      <td>4.0</td>\n",
              "      <td>80</td>\n",
              "      <td>Whitefield</td>\n",
              "      <td>Quick Bites</td>\n",
              "      <td>Beverages, American, Bakery</td>\n",
              "      <td>NaN</td>\n",
              "      <td>[('Rated 4.0', \"RATED\\n  Who else is a Cinnabo...</td>\n",
              "      <td>[]</td>\n",
              "      <td>Desserts</td>\n",
              "      <td>Whitefield</td>\n",
              "    </tr>\n",
              "    <tr>\n",
              "      <th>51233</th>\n",
              "      <td>https://www.zomato.com/bangalore/mayas-kitchen...</td>\n",
              "      <td>43/9, Borewell Rd, Palm Meadows, Nallurhalli, ...</td>\n",
              "      <td>Mayas kitchen</td>\n",
              "      <td>False</td>\n",
              "      <td>False</td>\n",
              "      <td>4.0</td>\n",
              "      <td>0</td>\n",
              "      <td>Whitefield</td>\n",
              "      <td>Casual Dining</td>\n",
              "      <td>South Indian, Chinese, Chettinad</td>\n",
              "      <td>NaN</td>\n",
              "      <td>[('Rated 4.0', \"RATED\\n  Food was pretty good,...</td>\n",
              "      <td>[]</td>\n",
              "      <td>Dine-out</td>\n",
              "      <td>Whitefield</td>\n",
              "    </tr>\n",
              "    <tr>\n",
              "      <th>51247</th>\n",
              "      <td>https://www.zomato.com/bangalore/mast-kalandar...</td>\n",
              "      <td>D64, 33, 1st Floor, Sundari Armadale, Next To ...</td>\n",
              "      <td>Mast Kalandar</td>\n",
              "      <td>False</td>\n",
              "      <td>False</td>\n",
              "      <td>2.6</td>\n",
              "      <td>76</td>\n",
              "      <td>Whitefield</td>\n",
              "      <td>Casual Dining</td>\n",
              "      <td>North Indian</td>\n",
              "      <td>NaN</td>\n",
              "      <td>[('Rated 1.0', 'RATED\\n  Terrible food in this...</td>\n",
              "      <td>[]</td>\n",
              "      <td>Dine-out</td>\n",
              "      <td>Whitefield</td>\n",
              "    </tr>\n",
              "    <tr>\n",
              "      <th>51271</th>\n",
              "      <td>https://www.zomato.com/bangalore/karavalli-foo...</td>\n",
              "      <td>N254-107, 1st Main Road, Near ITPL Gate 3, KIA...</td>\n",
              "      <td>Karavalli Food Court</td>\n",
              "      <td>False</td>\n",
              "      <td>False</td>\n",
              "      <td>3.2</td>\n",
              "      <td>4</td>\n",
              "      <td>Whitefield</td>\n",
              "      <td>Casual Dining</td>\n",
              "      <td>South Indian</td>\n",
              "      <td>NaN</td>\n",
              "      <td>[('Rated 1.0', 'RATED\\n  i was a regular custo...</td>\n",
              "      <td>[]</td>\n",
              "      <td>Dine-out</td>\n",
              "      <td>Whitefield</td>\n",
              "    </tr>\n",
              "    <tr>\n",
              "      <th>51641</th>\n",
              "      <td>https://www.zomato.com/bangalore/andhra-spices...</td>\n",
              "      <td>188, ITPL Main Road, Brookefields, Bangalore, ...</td>\n",
              "      <td>Andhra Spices</td>\n",
              "      <td>False</td>\n",
              "      <td>False</td>\n",
              "      <td>3.2</td>\n",
              "      <td>4</td>\n",
              "      <td>Brookefield</td>\n",
              "      <td>Quick Bites</td>\n",
              "      <td>Andhra, Chinese, South Indian</td>\n",
              "      <td>NaN</td>\n",
              "      <td>[('Rated 2.0', \"RATED\\n  Food is not upto the ...</td>\n",
              "      <td>[]</td>\n",
              "      <td>Dine-out</td>\n",
              "      <td>Whitefield</td>\n",
              "    </tr>\n",
              "  </tbody>\n",
              "</table>\n",
              "<p>298 rows × 15 columns</p>\n",
              "</div>"
            ],
            "text/plain": [
              "                                                     url  ...               Area\n",
              "1795   https://www.zomato.com/bangalore/super-chefs-b...  ...  Bannerghatta Road\n",
              "3069   https://www.zomato.com/bangalore/super-chefs-b...  ...       Basavanagudi\n",
              "3774   https://www.zomato.com/bangalore/the-hub-ibis-...  ...          Bellandur\n",
              "3954   https://www.zomato.com/bangalore/north-indian-...  ...          Bellandur\n",
              "4040   https://www.zomato.com/bangalore/only-parathas...  ...          Bellandur\n",
              "...                                                  ...  ...                ...\n",
              "50940  https://www.zomato.com/bangalore/cinnabon-whit...  ...         Whitefield\n",
              "51233  https://www.zomato.com/bangalore/mayas-kitchen...  ...         Whitefield\n",
              "51247  https://www.zomato.com/bangalore/mast-kalandar...  ...         Whitefield\n",
              "51271  https://www.zomato.com/bangalore/karavalli-foo...  ...         Whitefield\n",
              "51641  https://www.zomato.com/bangalore/andhra-spices...  ...         Whitefield\n",
              "\n",
              "[298 rows x 15 columns]"
            ]
          },
          "metadata": {},
          "execution_count": 37
        }
      ]
    },
    {
      "cell_type": "markdown",
      "metadata": {
        "id": "QLFvpFsgBrCg"
      },
      "source": [
        "the values for  cusine type, approx cost and cusines are not that important hence we can leave their missing values"
      ]
    },
    {
      "cell_type": "code",
      "metadata": {
        "id": "pydfa58h45VS"
      },
      "source": [
        "import numpy as np\n",
        "from sklearn.experimental import enable_iterative_imputer\n",
        "from sklearn.impute import KNNImputer"
      ],
      "execution_count": null,
      "outputs": []
    },
    {
      "cell_type": "code",
      "metadata": {
        "colab": {
          "base_uri": "https://localhost:8080/"
        },
        "id": "KKtAz0Jd6WMu",
        "outputId": "d24ccede-1025-4ace-c09e-645dc1caf4fa"
      },
      "source": [
        "tp.info()"
      ],
      "execution_count": null,
      "outputs": [
        {
          "output_type": "stream",
          "name": "stdout",
          "text": [
            "<class 'pandas.core.frame.DataFrame'>\n",
            "Int64Index: 45243 entries, 0 to 51716\n",
            "Data columns (total 15 columns):\n",
            " #   Column        Non-Null Count  Dtype   \n",
            "---  ------        --------------  -----   \n",
            " 0   url           45243 non-null  string  \n",
            " 1   address       45243 non-null  string  \n",
            " 2   name          45243 non-null  string  \n",
            " 3   online_order  45243 non-null  bool    \n",
            " 4   book_table    45243 non-null  bool    \n",
            " 5   rate          45243 non-null  float64 \n",
            " 6   votes         45243 non-null  int64   \n",
            " 7   location      45243 non-null  string  \n",
            " 8   cus_type      45083 non-null  category\n",
            " 9   cuisines      45226 non-null  string  \n",
            " 10  Approx_cost   44945 non-null  float64 \n",
            " 11  reviews_list  45243 non-null  object  \n",
            " 12  menu_item     45243 non-null  object  \n",
            " 13  Res_Type      45243 non-null  category\n",
            " 14  Area          45243 non-null  category\n",
            "dtypes: bool(2), category(3), float64(2), int64(1), object(2), string(5)\n",
            "memory usage: 4.0+ MB\n"
          ]
        }
      ]
    },
    {
      "cell_type": "code",
      "metadata": {
        "id": "jnQh-1it6ABI"
      },
      "source": [
        "tp_num = tp.select_dtypes(include=['float64',\"int64\"])\n",
        "tp_string = tp.select_dtypes(include=['string',\"object\"])\n",
        "tp_cat= tp.select_dtypes(exclude=['float64',\"int64\",\"string\",\"object\"])"
      ],
      "execution_count": null,
      "outputs": []
    },
    {
      "cell_type": "code",
      "metadata": {
        "colab": {
          "base_uri": "https://localhost:8080/",
          "height": 423
        },
        "id": "2MdlQ3cHkO08",
        "outputId": "90ad471e-1ef1-4e46-ad28-1558eaa7e985"
      },
      "source": [
        "tp_cat"
      ],
      "execution_count": null,
      "outputs": [
        {
          "output_type": "execute_result",
          "data": {
            "text/html": [
              "<div>\n",
              "<style scoped>\n",
              "    .dataframe tbody tr th:only-of-type {\n",
              "        vertical-align: middle;\n",
              "    }\n",
              "\n",
              "    .dataframe tbody tr th {\n",
              "        vertical-align: top;\n",
              "    }\n",
              "\n",
              "    .dataframe thead th {\n",
              "        text-align: right;\n",
              "    }\n",
              "</style>\n",
              "<table border=\"1\" class=\"dataframe\">\n",
              "  <thead>\n",
              "    <tr style=\"text-align: right;\">\n",
              "      <th></th>\n",
              "      <th>online_order</th>\n",
              "      <th>book_table</th>\n",
              "      <th>cus_type</th>\n",
              "      <th>Res_Type</th>\n",
              "      <th>Area</th>\n",
              "    </tr>\n",
              "  </thead>\n",
              "  <tbody>\n",
              "    <tr>\n",
              "      <th>0</th>\n",
              "      <td>True</td>\n",
              "      <td>True</td>\n",
              "      <td>Casual Dining</td>\n",
              "      <td>Buffet</td>\n",
              "      <td>Banashankari</td>\n",
              "    </tr>\n",
              "    <tr>\n",
              "      <th>1</th>\n",
              "      <td>True</td>\n",
              "      <td>False</td>\n",
              "      <td>Casual Dining</td>\n",
              "      <td>Buffet</td>\n",
              "      <td>Banashankari</td>\n",
              "    </tr>\n",
              "    <tr>\n",
              "      <th>2</th>\n",
              "      <td>True</td>\n",
              "      <td>False</td>\n",
              "      <td>Cafe, Casual Dining</td>\n",
              "      <td>Buffet</td>\n",
              "      <td>Banashankari</td>\n",
              "    </tr>\n",
              "    <tr>\n",
              "      <th>3</th>\n",
              "      <td>False</td>\n",
              "      <td>False</td>\n",
              "      <td>Quick Bites</td>\n",
              "      <td>Buffet</td>\n",
              "      <td>Banashankari</td>\n",
              "    </tr>\n",
              "    <tr>\n",
              "      <th>4</th>\n",
              "      <td>False</td>\n",
              "      <td>False</td>\n",
              "      <td>Casual Dining</td>\n",
              "      <td>Buffet</td>\n",
              "      <td>Banashankari</td>\n",
              "    </tr>\n",
              "    <tr>\n",
              "      <th>...</th>\n",
              "      <td>...</td>\n",
              "      <td>...</td>\n",
              "      <td>...</td>\n",
              "      <td>...</td>\n",
              "      <td>...</td>\n",
              "    </tr>\n",
              "    <tr>\n",
              "      <th>51710</th>\n",
              "      <td>False</td>\n",
              "      <td>False</td>\n",
              "      <td>Bar</td>\n",
              "      <td>Pubs and bars</td>\n",
              "      <td>Whitefield</td>\n",
              "    </tr>\n",
              "    <tr>\n",
              "      <th>51711</th>\n",
              "      <td>False</td>\n",
              "      <td>False</td>\n",
              "      <td>Casual Dining, Bar</td>\n",
              "      <td>Pubs and bars</td>\n",
              "      <td>Whitefield</td>\n",
              "    </tr>\n",
              "    <tr>\n",
              "      <th>51712</th>\n",
              "      <td>False</td>\n",
              "      <td>False</td>\n",
              "      <td>Bar</td>\n",
              "      <td>Pubs and bars</td>\n",
              "      <td>Whitefield</td>\n",
              "    </tr>\n",
              "    <tr>\n",
              "      <th>51715</th>\n",
              "      <td>False</td>\n",
              "      <td>True</td>\n",
              "      <td>Bar</td>\n",
              "      <td>Pubs and bars</td>\n",
              "      <td>Whitefield</td>\n",
              "    </tr>\n",
              "    <tr>\n",
              "      <th>51716</th>\n",
              "      <td>False</td>\n",
              "      <td>False</td>\n",
              "      <td>Bar, Casual Dining</td>\n",
              "      <td>Pubs and bars</td>\n",
              "      <td>Whitefield</td>\n",
              "    </tr>\n",
              "  </tbody>\n",
              "</table>\n",
              "<p>45243 rows × 5 columns</p>\n",
              "</div>"
            ],
            "text/plain": [
              "       online_order  book_table  ...       Res_Type          Area\n",
              "0              True        True  ...         Buffet  Banashankari\n",
              "1              True       False  ...         Buffet  Banashankari\n",
              "2              True       False  ...         Buffet  Banashankari\n",
              "3             False       False  ...         Buffet  Banashankari\n",
              "4             False       False  ...         Buffet  Banashankari\n",
              "...             ...         ...  ...            ...           ...\n",
              "51710         False       False  ...  Pubs and bars    Whitefield\n",
              "51711         False       False  ...  Pubs and bars    Whitefield\n",
              "51712         False       False  ...  Pubs and bars    Whitefield\n",
              "51715         False        True  ...  Pubs and bars    Whitefield\n",
              "51716         False       False  ...  Pubs and bars    Whitefield\n",
              "\n",
              "[45243 rows x 5 columns]"
            ]
          },
          "metadata": {},
          "execution_count": 41
        }
      ]
    },
    {
      "cell_type": "code",
      "metadata": {
        "colab": {
          "base_uri": "https://localhost:8080/",
          "height": 597
        },
        "id": "n37RFtsWkMqB",
        "outputId": "a50dfbb7-4923-4c7c-f0db-afd1fe4b2454"
      },
      "source": [
        "tp_string"
      ],
      "execution_count": null,
      "outputs": [
        {
          "output_type": "execute_result",
          "data": {
            "text/html": [
              "<div>\n",
              "<style scoped>\n",
              "    .dataframe tbody tr th:only-of-type {\n",
              "        vertical-align: middle;\n",
              "    }\n",
              "\n",
              "    .dataframe tbody tr th {\n",
              "        vertical-align: top;\n",
              "    }\n",
              "\n",
              "    .dataframe thead th {\n",
              "        text-align: right;\n",
              "    }\n",
              "</style>\n",
              "<table border=\"1\" class=\"dataframe\">\n",
              "  <thead>\n",
              "    <tr style=\"text-align: right;\">\n",
              "      <th></th>\n",
              "      <th>url</th>\n",
              "      <th>address</th>\n",
              "      <th>name</th>\n",
              "      <th>location</th>\n",
              "      <th>cuisines</th>\n",
              "      <th>reviews_list</th>\n",
              "      <th>menu_item</th>\n",
              "    </tr>\n",
              "  </thead>\n",
              "  <tbody>\n",
              "    <tr>\n",
              "      <th>0</th>\n",
              "      <td>https://www.zomato.com/bangalore/jalsa-banasha...</td>\n",
              "      <td>942, 21st Main Road, 2nd Stage, Banashankari, ...</td>\n",
              "      <td>Jalsa</td>\n",
              "      <td>Banashankari</td>\n",
              "      <td>North Indian, Mughlai, Chinese</td>\n",
              "      <td>[('Rated 4.0', 'RATED\\n  A beautiful place to ...</td>\n",
              "      <td>[]</td>\n",
              "    </tr>\n",
              "    <tr>\n",
              "      <th>1</th>\n",
              "      <td>https://www.zomato.com/bangalore/spice-elephan...</td>\n",
              "      <td>2nd Floor, 80 Feet Road, Near Big Bazaar, 6th ...</td>\n",
              "      <td>Spice Elephant</td>\n",
              "      <td>Banashankari</td>\n",
              "      <td>Chinese, North Indian, Thai</td>\n",
              "      <td>[('Rated 4.0', 'RATED\\n  Had been here for din...</td>\n",
              "      <td>[]</td>\n",
              "    </tr>\n",
              "    <tr>\n",
              "      <th>2</th>\n",
              "      <td>https://www.zomato.com/SanchurroBangalore?cont...</td>\n",
              "      <td>1112, Next to KIMS Medical College, 17th Cross...</td>\n",
              "      <td>San Churro Cafe</td>\n",
              "      <td>Banashankari</td>\n",
              "      <td>Cafe, Mexican, Italian</td>\n",
              "      <td>[('Rated 3.0', \"RATED\\n  Ambience is not that ...</td>\n",
              "      <td>[]</td>\n",
              "    </tr>\n",
              "    <tr>\n",
              "      <th>3</th>\n",
              "      <td>https://www.zomato.com/bangalore/addhuri-udupi...</td>\n",
              "      <td>1st Floor, Annakuteera, 3rd Stage, Banashankar...</td>\n",
              "      <td>Addhuri Udupi Bhojana</td>\n",
              "      <td>Banashankari</td>\n",
              "      <td>South Indian, North Indian</td>\n",
              "      <td>[('Rated 4.0', \"RATED\\n  Great food and proper...</td>\n",
              "      <td>[]</td>\n",
              "    </tr>\n",
              "    <tr>\n",
              "      <th>4</th>\n",
              "      <td>https://www.zomato.com/bangalore/grand-village...</td>\n",
              "      <td>10, 3rd Floor, Lakshmi Associates, Gandhi Baza...</td>\n",
              "      <td>Grand Village</td>\n",
              "      <td>Basavanagudi</td>\n",
              "      <td>North Indian, Rajasthani</td>\n",
              "      <td>[('Rated 4.0', 'RATED\\n  Very good restaurant ...</td>\n",
              "      <td>[]</td>\n",
              "    </tr>\n",
              "    <tr>\n",
              "      <th>...</th>\n",
              "      <td>...</td>\n",
              "      <td>...</td>\n",
              "      <td>...</td>\n",
              "      <td>...</td>\n",
              "      <td>...</td>\n",
              "      <td>...</td>\n",
              "      <td>...</td>\n",
              "    </tr>\n",
              "    <tr>\n",
              "      <th>51710</th>\n",
              "      <td>https://www.zomato.com/bangalore/topsy-turvey-...</td>\n",
              "      <td>2E2, 4th Cross Road, Devasandra Industrial Est...</td>\n",
              "      <td>Topsy Turvey</td>\n",
              "      <td>Whitefield</td>\n",
              "      <td>Finger Food</td>\n",
              "      <td>[('Rated 4.0', \"RATED\\n  A divine joint for Fl...</td>\n",
              "      <td>[]</td>\n",
              "    </tr>\n",
              "    <tr>\n",
              "      <th>51711</th>\n",
              "      <td>https://www.zomato.com/bangalore/bhagini-2-whi...</td>\n",
              "      <td>139/C1, Next To GR Tech Park, Pattandur Agraha...</td>\n",
              "      <td>Bhagini</td>\n",
              "      <td>Whitefield</td>\n",
              "      <td>Andhra, South Indian, Chinese, North Indian</td>\n",
              "      <td>[('Rated 4.0', 'RATED\\n  A fine place to chill...</td>\n",
              "      <td>[]</td>\n",
              "    </tr>\n",
              "    <tr>\n",
              "      <th>51712</th>\n",
              "      <td>https://www.zomato.com/bangalore/best-brews-fo...</td>\n",
              "      <td>Four Points by Sheraton Bengaluru, 43/3, White...</td>\n",
              "      <td>Best Brews - Four Points by Sheraton Bengaluru...</td>\n",
              "      <td>Whitefield</td>\n",
              "      <td>Continental</td>\n",
              "      <td>[('Rated 5.0', \"RATED\\n  Food and service are ...</td>\n",
              "      <td>[]</td>\n",
              "    </tr>\n",
              "    <tr>\n",
              "      <th>51715</th>\n",
              "      <td>https://www.zomato.com/bangalore/chime-sherato...</td>\n",
              "      <td>Sheraton Grand Bengaluru Whitefield Hotel &amp; Co...</td>\n",
              "      <td>Chime - Sheraton Grand Bengaluru Whitefield Ho...</td>\n",
              "      <td>ITPL Main Road, Whitefield</td>\n",
              "      <td>Finger Food</td>\n",
              "      <td>[('Rated 4.0', 'RATED\\n  Nice and friendly pla...</td>\n",
              "      <td>[]</td>\n",
              "    </tr>\n",
              "    <tr>\n",
              "      <th>51716</th>\n",
              "      <td>https://www.zomato.com/bangalore/the-nest-the-...</td>\n",
              "      <td>ITPL Main Road, KIADB Export Promotion Industr...</td>\n",
              "      <td>The Nest - The Den Bengaluru</td>\n",
              "      <td>ITPL Main Road, Whitefield</td>\n",
              "      <td>Finger Food, North Indian, Continental</td>\n",
              "      <td>[('Rated 5.0', 'RATED\\n  Great ambience , look...</td>\n",
              "      <td>[]</td>\n",
              "    </tr>\n",
              "  </tbody>\n",
              "</table>\n",
              "<p>45243 rows × 7 columns</p>\n",
              "</div>"
            ],
            "text/plain": [
              "                                                     url  ... menu_item\n",
              "0      https://www.zomato.com/bangalore/jalsa-banasha...  ...        []\n",
              "1      https://www.zomato.com/bangalore/spice-elephan...  ...        []\n",
              "2      https://www.zomato.com/SanchurroBangalore?cont...  ...        []\n",
              "3      https://www.zomato.com/bangalore/addhuri-udupi...  ...        []\n",
              "4      https://www.zomato.com/bangalore/grand-village...  ...        []\n",
              "...                                                  ...  ...       ...\n",
              "51710  https://www.zomato.com/bangalore/topsy-turvey-...  ...        []\n",
              "51711  https://www.zomato.com/bangalore/bhagini-2-whi...  ...        []\n",
              "51712  https://www.zomato.com/bangalore/best-brews-fo...  ...        []\n",
              "51715  https://www.zomato.com/bangalore/chime-sherato...  ...        []\n",
              "51716  https://www.zomato.com/bangalore/the-nest-the-...  ...        []\n",
              "\n",
              "[45243 rows x 7 columns]"
            ]
          },
          "metadata": {},
          "execution_count": 42
        }
      ]
    },
    {
      "cell_type": "code",
      "metadata": {
        "colab": {
          "base_uri": "https://localhost:8080/",
          "height": 423
        },
        "id": "bawSTihD7CCq",
        "outputId": "d5f57345-a4c3-480f-a224-7da84acb82b3"
      },
      "source": [
        "tp_num"
      ],
      "execution_count": null,
      "outputs": [
        {
          "output_type": "execute_result",
          "data": {
            "text/html": [
              "<div>\n",
              "<style scoped>\n",
              "    .dataframe tbody tr th:only-of-type {\n",
              "        vertical-align: middle;\n",
              "    }\n",
              "\n",
              "    .dataframe tbody tr th {\n",
              "        vertical-align: top;\n",
              "    }\n",
              "\n",
              "    .dataframe thead th {\n",
              "        text-align: right;\n",
              "    }\n",
              "</style>\n",
              "<table border=\"1\" class=\"dataframe\">\n",
              "  <thead>\n",
              "    <tr style=\"text-align: right;\">\n",
              "      <th></th>\n",
              "      <th>rate</th>\n",
              "      <th>votes</th>\n",
              "      <th>Approx_cost</th>\n",
              "    </tr>\n",
              "  </thead>\n",
              "  <tbody>\n",
              "    <tr>\n",
              "      <th>0</th>\n",
              "      <td>4.1</td>\n",
              "      <td>775</td>\n",
              "      <td>800.0</td>\n",
              "    </tr>\n",
              "    <tr>\n",
              "      <th>1</th>\n",
              "      <td>4.1</td>\n",
              "      <td>787</td>\n",
              "      <td>800.0</td>\n",
              "    </tr>\n",
              "    <tr>\n",
              "      <th>2</th>\n",
              "      <td>3.8</td>\n",
              "      <td>918</td>\n",
              "      <td>800.0</td>\n",
              "    </tr>\n",
              "    <tr>\n",
              "      <th>3</th>\n",
              "      <td>3.7</td>\n",
              "      <td>88</td>\n",
              "      <td>300.0</td>\n",
              "    </tr>\n",
              "    <tr>\n",
              "      <th>4</th>\n",
              "      <td>3.8</td>\n",
              "      <td>166</td>\n",
              "      <td>600.0</td>\n",
              "    </tr>\n",
              "    <tr>\n",
              "      <th>...</th>\n",
              "      <td>...</td>\n",
              "      <td>...</td>\n",
              "      <td>...</td>\n",
              "    </tr>\n",
              "    <tr>\n",
              "      <th>51710</th>\n",
              "      <td>4.0</td>\n",
              "      <td>0</td>\n",
              "      <td>900.0</td>\n",
              "    </tr>\n",
              "    <tr>\n",
              "      <th>51711</th>\n",
              "      <td>2.5</td>\n",
              "      <td>81</td>\n",
              "      <td>800.0</td>\n",
              "    </tr>\n",
              "    <tr>\n",
              "      <th>51712</th>\n",
              "      <td>3.6</td>\n",
              "      <td>27</td>\n",
              "      <td>1500.0</td>\n",
              "    </tr>\n",
              "    <tr>\n",
              "      <th>51715</th>\n",
              "      <td>4.3</td>\n",
              "      <td>236</td>\n",
              "      <td>2500.0</td>\n",
              "    </tr>\n",
              "    <tr>\n",
              "      <th>51716</th>\n",
              "      <td>3.4</td>\n",
              "      <td>13</td>\n",
              "      <td>1500.0</td>\n",
              "    </tr>\n",
              "  </tbody>\n",
              "</table>\n",
              "<p>45243 rows × 3 columns</p>\n",
              "</div>"
            ],
            "text/plain": [
              "       rate  votes  Approx_cost\n",
              "0       4.1    775        800.0\n",
              "1       4.1    787        800.0\n",
              "2       3.8    918        800.0\n",
              "3       3.7     88        300.0\n",
              "4       3.8    166        600.0\n",
              "...     ...    ...          ...\n",
              "51710   4.0      0        900.0\n",
              "51711   2.5     81        800.0\n",
              "51712   3.6     27       1500.0\n",
              "51715   4.3    236       2500.0\n",
              "51716   3.4     13       1500.0\n",
              "\n",
              "[45243 rows x 3 columns]"
            ]
          },
          "metadata": {},
          "execution_count": 43
        }
      ]
    },
    {
      "cell_type": "code",
      "metadata": {
        "colab": {
          "base_uri": "https://localhost:8080/",
          "height": 423
        },
        "id": "ZTth5oU448ZE",
        "outputId": "5a2c90f2-d48a-4800-cf08-fe6a59ad9277"
      },
      "source": [
        "imp = KNNImputer(n_neighbors=2, weights=\"uniform\")\n",
        "imp.fit(tp_num)\n",
        "op=imp.transform(tp_num)\n",
        "tp_num=pd.DataFrame(op,columns=tp_num.columns)\n",
        "tp_num"
      ],
      "execution_count": null,
      "outputs": [
        {
          "output_type": "execute_result",
          "data": {
            "text/html": [
              "<div>\n",
              "<style scoped>\n",
              "    .dataframe tbody tr th:only-of-type {\n",
              "        vertical-align: middle;\n",
              "    }\n",
              "\n",
              "    .dataframe tbody tr th {\n",
              "        vertical-align: top;\n",
              "    }\n",
              "\n",
              "    .dataframe thead th {\n",
              "        text-align: right;\n",
              "    }\n",
              "</style>\n",
              "<table border=\"1\" class=\"dataframe\">\n",
              "  <thead>\n",
              "    <tr style=\"text-align: right;\">\n",
              "      <th></th>\n",
              "      <th>rate</th>\n",
              "      <th>votes</th>\n",
              "      <th>Approx_cost</th>\n",
              "    </tr>\n",
              "  </thead>\n",
              "  <tbody>\n",
              "    <tr>\n",
              "      <th>0</th>\n",
              "      <td>4.1</td>\n",
              "      <td>775.0</td>\n",
              "      <td>800.0</td>\n",
              "    </tr>\n",
              "    <tr>\n",
              "      <th>1</th>\n",
              "      <td>4.1</td>\n",
              "      <td>787.0</td>\n",
              "      <td>800.0</td>\n",
              "    </tr>\n",
              "    <tr>\n",
              "      <th>2</th>\n",
              "      <td>3.8</td>\n",
              "      <td>918.0</td>\n",
              "      <td>800.0</td>\n",
              "    </tr>\n",
              "    <tr>\n",
              "      <th>3</th>\n",
              "      <td>3.7</td>\n",
              "      <td>88.0</td>\n",
              "      <td>300.0</td>\n",
              "    </tr>\n",
              "    <tr>\n",
              "      <th>4</th>\n",
              "      <td>3.8</td>\n",
              "      <td>166.0</td>\n",
              "      <td>600.0</td>\n",
              "    </tr>\n",
              "    <tr>\n",
              "      <th>...</th>\n",
              "      <td>...</td>\n",
              "      <td>...</td>\n",
              "      <td>...</td>\n",
              "    </tr>\n",
              "    <tr>\n",
              "      <th>45238</th>\n",
              "      <td>4.0</td>\n",
              "      <td>0.0</td>\n",
              "      <td>900.0</td>\n",
              "    </tr>\n",
              "    <tr>\n",
              "      <th>45239</th>\n",
              "      <td>2.5</td>\n",
              "      <td>81.0</td>\n",
              "      <td>800.0</td>\n",
              "    </tr>\n",
              "    <tr>\n",
              "      <th>45240</th>\n",
              "      <td>3.6</td>\n",
              "      <td>27.0</td>\n",
              "      <td>1500.0</td>\n",
              "    </tr>\n",
              "    <tr>\n",
              "      <th>45241</th>\n",
              "      <td>4.3</td>\n",
              "      <td>236.0</td>\n",
              "      <td>2500.0</td>\n",
              "    </tr>\n",
              "    <tr>\n",
              "      <th>45242</th>\n",
              "      <td>3.4</td>\n",
              "      <td>13.0</td>\n",
              "      <td>1500.0</td>\n",
              "    </tr>\n",
              "  </tbody>\n",
              "</table>\n",
              "<p>45243 rows × 3 columns</p>\n",
              "</div>"
            ],
            "text/plain": [
              "       rate  votes  Approx_cost\n",
              "0       4.1  775.0        800.0\n",
              "1       4.1  787.0        800.0\n",
              "2       3.8  918.0        800.0\n",
              "3       3.7   88.0        300.0\n",
              "4       3.8  166.0        600.0\n",
              "...     ...    ...          ...\n",
              "45238   4.0    0.0        900.0\n",
              "45239   2.5   81.0        800.0\n",
              "45240   3.6   27.0       1500.0\n",
              "45241   4.3  236.0       2500.0\n",
              "45242   3.4   13.0       1500.0\n",
              "\n",
              "[45243 rows x 3 columns]"
            ]
          },
          "metadata": {},
          "execution_count": 44
        }
      ]
    },
    {
      "cell_type": "code",
      "metadata": {
        "id": "h8Wpqy4_7gSp"
      },
      "source": [],
      "execution_count": null,
      "outputs": []
    },
    {
      "cell_type": "code",
      "metadata": {
        "colab": {
          "base_uri": "https://localhost:8080/"
        },
        "id": "P3wwf6MD7gxL",
        "outputId": "56164f58-4846-434a-f09c-db7269242386"
      },
      "source": [
        "tp_cat.columns\n",
        "tp_cat.replace({pd.NA: np.nan},inplace=True)"
      ],
      "execution_count": null,
      "outputs": [
        {
          "output_type": "stream",
          "name": "stderr",
          "text": [
            "/usr/local/lib/python3.7/dist-packages/pandas/core/frame.py:4389: SettingWithCopyWarning: \n",
            "A value is trying to be set on a copy of a slice from a DataFrame\n",
            "\n",
            "See the caveats in the documentation: https://pandas.pydata.org/pandas-docs/stable/user_guide/indexing.html#returning-a-view-versus-a-copy\n",
            "  method=method,\n"
          ]
        }
      ]
    },
    {
      "cell_type": "code",
      "metadata": {
        "id": "MZd-l3vQknVu"
      },
      "source": [
        "from sklearn.impute import SimpleImputer\n",
        "imputer = SimpleImputer(strategy='most_frequent') # Find out what other strategies are there ?\n"
      ],
      "execution_count": null,
      "outputs": []
    },
    {
      "cell_type": "code",
      "metadata": {
        "colab": {
          "base_uri": "https://localhost:8080/"
        },
        "id": "77dFhKSpkzqb",
        "outputId": "709f33a1-58cc-4212-a417-c0f54c07dafd"
      },
      "source": [
        "imputer.fit(tp_cat)  #It learns the mostFrequent for each categorical variable\n",
        "imputer.statistics_"
      ],
      "execution_count": null,
      "outputs": [
        {
          "output_type": "execute_result",
          "data": {
            "text/plain": [
              "array([True, False, 'Quick Bites', 'Delivery', 'BTM'], dtype=object)"
            ]
          },
          "metadata": {},
          "execution_count": 47
        }
      ]
    },
    {
      "cell_type": "code",
      "metadata": {
        "colab": {
          "base_uri": "https://localhost:8080/",
          "height": 423
        },
        "id": "O_D0FXIHq8d1",
        "outputId": "b17ebc54-169a-4459-9e70-478f1bbcd1d8"
      },
      "source": [
        "op = imputer.transform(tp_cat) # fills with missing values # converts into a numpy array\n",
        "type(op)\n",
        "\n",
        "tp_cat=pd.DataFrame(op,columns=tp_cat.columns)\n",
        "tp_cat"
      ],
      "execution_count": null,
      "outputs": [
        {
          "output_type": "execute_result",
          "data": {
            "text/html": [
              "<div>\n",
              "<style scoped>\n",
              "    .dataframe tbody tr th:only-of-type {\n",
              "        vertical-align: middle;\n",
              "    }\n",
              "\n",
              "    .dataframe tbody tr th {\n",
              "        vertical-align: top;\n",
              "    }\n",
              "\n",
              "    .dataframe thead th {\n",
              "        text-align: right;\n",
              "    }\n",
              "</style>\n",
              "<table border=\"1\" class=\"dataframe\">\n",
              "  <thead>\n",
              "    <tr style=\"text-align: right;\">\n",
              "      <th></th>\n",
              "      <th>online_order</th>\n",
              "      <th>book_table</th>\n",
              "      <th>cus_type</th>\n",
              "      <th>Res_Type</th>\n",
              "      <th>Area</th>\n",
              "    </tr>\n",
              "  </thead>\n",
              "  <tbody>\n",
              "    <tr>\n",
              "      <th>0</th>\n",
              "      <td>True</td>\n",
              "      <td>True</td>\n",
              "      <td>Casual Dining</td>\n",
              "      <td>Buffet</td>\n",
              "      <td>Banashankari</td>\n",
              "    </tr>\n",
              "    <tr>\n",
              "      <th>1</th>\n",
              "      <td>True</td>\n",
              "      <td>False</td>\n",
              "      <td>Casual Dining</td>\n",
              "      <td>Buffet</td>\n",
              "      <td>Banashankari</td>\n",
              "    </tr>\n",
              "    <tr>\n",
              "      <th>2</th>\n",
              "      <td>True</td>\n",
              "      <td>False</td>\n",
              "      <td>Cafe, Casual Dining</td>\n",
              "      <td>Buffet</td>\n",
              "      <td>Banashankari</td>\n",
              "    </tr>\n",
              "    <tr>\n",
              "      <th>3</th>\n",
              "      <td>False</td>\n",
              "      <td>False</td>\n",
              "      <td>Quick Bites</td>\n",
              "      <td>Buffet</td>\n",
              "      <td>Banashankari</td>\n",
              "    </tr>\n",
              "    <tr>\n",
              "      <th>4</th>\n",
              "      <td>False</td>\n",
              "      <td>False</td>\n",
              "      <td>Casual Dining</td>\n",
              "      <td>Buffet</td>\n",
              "      <td>Banashankari</td>\n",
              "    </tr>\n",
              "    <tr>\n",
              "      <th>...</th>\n",
              "      <td>...</td>\n",
              "      <td>...</td>\n",
              "      <td>...</td>\n",
              "      <td>...</td>\n",
              "      <td>...</td>\n",
              "    </tr>\n",
              "    <tr>\n",
              "      <th>45238</th>\n",
              "      <td>False</td>\n",
              "      <td>False</td>\n",
              "      <td>Bar</td>\n",
              "      <td>Pubs and bars</td>\n",
              "      <td>Whitefield</td>\n",
              "    </tr>\n",
              "    <tr>\n",
              "      <th>45239</th>\n",
              "      <td>False</td>\n",
              "      <td>False</td>\n",
              "      <td>Casual Dining, Bar</td>\n",
              "      <td>Pubs and bars</td>\n",
              "      <td>Whitefield</td>\n",
              "    </tr>\n",
              "    <tr>\n",
              "      <th>45240</th>\n",
              "      <td>False</td>\n",
              "      <td>False</td>\n",
              "      <td>Bar</td>\n",
              "      <td>Pubs and bars</td>\n",
              "      <td>Whitefield</td>\n",
              "    </tr>\n",
              "    <tr>\n",
              "      <th>45241</th>\n",
              "      <td>False</td>\n",
              "      <td>True</td>\n",
              "      <td>Bar</td>\n",
              "      <td>Pubs and bars</td>\n",
              "      <td>Whitefield</td>\n",
              "    </tr>\n",
              "    <tr>\n",
              "      <th>45242</th>\n",
              "      <td>False</td>\n",
              "      <td>False</td>\n",
              "      <td>Bar, Casual Dining</td>\n",
              "      <td>Pubs and bars</td>\n",
              "      <td>Whitefield</td>\n",
              "    </tr>\n",
              "  </tbody>\n",
              "</table>\n",
              "<p>45243 rows × 5 columns</p>\n",
              "</div>"
            ],
            "text/plain": [
              "      online_order book_table             cus_type       Res_Type          Area\n",
              "0             True       True        Casual Dining         Buffet  Banashankari\n",
              "1             True      False        Casual Dining         Buffet  Banashankari\n",
              "2             True      False  Cafe, Casual Dining         Buffet  Banashankari\n",
              "3            False      False          Quick Bites         Buffet  Banashankari\n",
              "4            False      False        Casual Dining         Buffet  Banashankari\n",
              "...            ...        ...                  ...            ...           ...\n",
              "45238        False      False                  Bar  Pubs and bars    Whitefield\n",
              "45239        False      False   Casual Dining, Bar  Pubs and bars    Whitefield\n",
              "45240        False      False                  Bar  Pubs and bars    Whitefield\n",
              "45241        False       True                  Bar  Pubs and bars    Whitefield\n",
              "45242        False      False   Bar, Casual Dining  Pubs and bars    Whitefield\n",
              "\n",
              "[45243 rows x 5 columns]"
            ]
          },
          "metadata": {},
          "execution_count": 48
        }
      ]
    },
    {
      "cell_type": "code",
      "metadata": {
        "id": "punCBX7mfvUW"
      },
      "source": [],
      "execution_count": null,
      "outputs": []
    },
    {
      "cell_type": "code",
      "metadata": {
        "id": "P7Z3J5ogfvl-"
      },
      "source": [
        "from sklearn.impute import SimpleImputer\n",
        "imputer = SimpleImputer(strategy='most_frequent') # Find out what other strategies are there ?\n"
      ],
      "execution_count": null,
      "outputs": []
    },
    {
      "cell_type": "code",
      "metadata": {
        "colab": {
          "base_uri": "https://localhost:8080/"
        },
        "id": "izLxozPNfvmA",
        "outputId": "0d91015f-4581-4808-8955-ef68df40359b"
      },
      "source": [
        "\n",
        "tp_string.replace({pd.NA: np.nan},inplace=True)\n",
        "imputer.fit(tp_string)  #It learns the mostFrequent for each categorical variable\n",
        "imputer.statistics_"
      ],
      "execution_count": null,
      "outputs": [
        {
          "output_type": "stream",
          "name": "stderr",
          "text": [
            "/usr/local/lib/python3.7/dist-packages/pandas/core/frame.py:4389: SettingWithCopyWarning: \n",
            "A value is trying to be set on a copy of a slice from a DataFrame\n",
            "\n",
            "See the caveats in the documentation: https://pandas.pydata.org/pandas-docs/stable/user_guide/indexing.html#returning-a-view-versus-a-copy\n",
            "  method=method,\n"
          ]
        },
        {
          "output_type": "execute_result",
          "data": {
            "text/plain": [
              "array(['https://www.zomato.com/24-7RestaurantBangalore?context=eyJzZSI6eyJlIjpbIjUwNjk0IiwiNTA2MDQiLCIxODI0NjQ5OCIsIjE4NjQ4MjE3Iiw1MTY1OCwiNTI1NzIiLCI1MDYwMyIsIjE4NjY0OTk1IiwiMTg5MDQxMDAiLCI1MTM2NiIsIjUyMjgzIiwiNTg3MzMiLCI1MjQ1NCJdLCJ0IjoiUmVzdGF1cmFudHMgaW4gTWFsbGVzaHdhcmFtIHNlcnZpbmcgQnVmZmV0In19',\n",
              "       'Delivery Only', 'Cafe Coffee Day', 'BTM', 'North Indian', '[]',\n",
              "       '[]'], dtype=object)"
            ]
          },
          "metadata": {},
          "execution_count": 50
        }
      ]
    },
    {
      "cell_type": "code",
      "metadata": {
        "id": "GZqXGWYAfvmC",
        "colab": {
          "base_uri": "https://localhost:8080/",
          "height": 1000
        },
        "outputId": "7e49da71-0ad0-4377-dc75-9f7c49443221"
      },
      "source": [
        "op = imputer.transform(tp_string) # fills with missing values # converts into a numpy array\n",
        "type(op)\n",
        "\n",
        "tp_string=pd.DataFrame(op,columns=tp_string.columns)\n",
        "tp_string"
      ],
      "execution_count": null,
      "outputs": [
        {
          "output_type": "execute_result",
          "data": {
            "text/html": [
              "<div>\n",
              "<style scoped>\n",
              "    .dataframe tbody tr th:only-of-type {\n",
              "        vertical-align: middle;\n",
              "    }\n",
              "\n",
              "    .dataframe tbody tr th {\n",
              "        vertical-align: top;\n",
              "    }\n",
              "\n",
              "    .dataframe thead th {\n",
              "        text-align: right;\n",
              "    }\n",
              "</style>\n",
              "<table border=\"1\" class=\"dataframe\">\n",
              "  <thead>\n",
              "    <tr style=\"text-align: right;\">\n",
              "      <th></th>\n",
              "      <th>url</th>\n",
              "      <th>address</th>\n",
              "      <th>name</th>\n",
              "      <th>location</th>\n",
              "      <th>cuisines</th>\n",
              "      <th>reviews_list</th>\n",
              "      <th>menu_item</th>\n",
              "    </tr>\n",
              "  </thead>\n",
              "  <tbody>\n",
              "    <tr>\n",
              "      <th>0</th>\n",
              "      <td>https://www.zomato.com/bangalore/jalsa-banasha...</td>\n",
              "      <td>942, 21st Main Road, 2nd Stage, Banashankari, ...</td>\n",
              "      <td>Jalsa</td>\n",
              "      <td>Banashankari</td>\n",
              "      <td>North Indian, Mughlai, Chinese</td>\n",
              "      <td>[('Rated 4.0', 'RATED\\n  A beautiful place to ...</td>\n",
              "      <td>[]</td>\n",
              "    </tr>\n",
              "    <tr>\n",
              "      <th>1</th>\n",
              "      <td>https://www.zomato.com/bangalore/spice-elephan...</td>\n",
              "      <td>2nd Floor, 80 Feet Road, Near Big Bazaar, 6th ...</td>\n",
              "      <td>Spice Elephant</td>\n",
              "      <td>Banashankari</td>\n",
              "      <td>Chinese, North Indian, Thai</td>\n",
              "      <td>[('Rated 4.0', 'RATED\\n  Had been here for din...</td>\n",
              "      <td>[]</td>\n",
              "    </tr>\n",
              "    <tr>\n",
              "      <th>2</th>\n",
              "      <td>https://www.zomato.com/SanchurroBangalore?cont...</td>\n",
              "      <td>1112, Next to KIMS Medical College, 17th Cross...</td>\n",
              "      <td>San Churro Cafe</td>\n",
              "      <td>Banashankari</td>\n",
              "      <td>Cafe, Mexican, Italian</td>\n",
              "      <td>[('Rated 3.0', \"RATED\\n  Ambience is not that ...</td>\n",
              "      <td>[]</td>\n",
              "    </tr>\n",
              "    <tr>\n",
              "      <th>3</th>\n",
              "      <td>https://www.zomato.com/bangalore/addhuri-udupi...</td>\n",
              "      <td>1st Floor, Annakuteera, 3rd Stage, Banashankar...</td>\n",
              "      <td>Addhuri Udupi Bhojana</td>\n",
              "      <td>Banashankari</td>\n",
              "      <td>South Indian, North Indian</td>\n",
              "      <td>[('Rated 4.0', \"RATED\\n  Great food and proper...</td>\n",
              "      <td>[]</td>\n",
              "    </tr>\n",
              "    <tr>\n",
              "      <th>4</th>\n",
              "      <td>https://www.zomato.com/bangalore/grand-village...</td>\n",
              "      <td>10, 3rd Floor, Lakshmi Associates, Gandhi Baza...</td>\n",
              "      <td>Grand Village</td>\n",
              "      <td>Basavanagudi</td>\n",
              "      <td>North Indian, Rajasthani</td>\n",
              "      <td>[('Rated 4.0', 'RATED\\n  Very good restaurant ...</td>\n",
              "      <td>[]</td>\n",
              "    </tr>\n",
              "    <tr>\n",
              "      <th>...</th>\n",
              "      <td>...</td>\n",
              "      <td>...</td>\n",
              "      <td>...</td>\n",
              "      <td>...</td>\n",
              "      <td>...</td>\n",
              "      <td>...</td>\n",
              "      <td>...</td>\n",
              "    </tr>\n",
              "    <tr>\n",
              "      <th>45238</th>\n",
              "      <td>https://www.zomato.com/bangalore/topsy-turvey-...</td>\n",
              "      <td>2E2, 4th Cross Road, Devasandra Industrial Est...</td>\n",
              "      <td>Topsy Turvey</td>\n",
              "      <td>Whitefield</td>\n",
              "      <td>Finger Food</td>\n",
              "      <td>[('Rated 4.0', \"RATED\\n  A divine joint for Fl...</td>\n",
              "      <td>[]</td>\n",
              "    </tr>\n",
              "    <tr>\n",
              "      <th>45239</th>\n",
              "      <td>https://www.zomato.com/bangalore/bhagini-2-whi...</td>\n",
              "      <td>139/C1, Next To GR Tech Park, Pattandur Agraha...</td>\n",
              "      <td>Bhagini</td>\n",
              "      <td>Whitefield</td>\n",
              "      <td>Andhra, South Indian, Chinese, North Indian</td>\n",
              "      <td>[('Rated 4.0', 'RATED\\n  A fine place to chill...</td>\n",
              "      <td>[]</td>\n",
              "    </tr>\n",
              "    <tr>\n",
              "      <th>45240</th>\n",
              "      <td>https://www.zomato.com/bangalore/best-brews-fo...</td>\n",
              "      <td>Four Points by Sheraton Bengaluru, 43/3, White...</td>\n",
              "      <td>Best Brews - Four Points by Sheraton Bengaluru...</td>\n",
              "      <td>Whitefield</td>\n",
              "      <td>Continental</td>\n",
              "      <td>[('Rated 5.0', \"RATED\\n  Food and service are ...</td>\n",
              "      <td>[]</td>\n",
              "    </tr>\n",
              "    <tr>\n",
              "      <th>45241</th>\n",
              "      <td>https://www.zomato.com/bangalore/chime-sherato...</td>\n",
              "      <td>Sheraton Grand Bengaluru Whitefield Hotel &amp; Co...</td>\n",
              "      <td>Chime - Sheraton Grand Bengaluru Whitefield Ho...</td>\n",
              "      <td>ITPL Main Road, Whitefield</td>\n",
              "      <td>Finger Food</td>\n",
              "      <td>[('Rated 4.0', 'RATED\\n  Nice and friendly pla...</td>\n",
              "      <td>[]</td>\n",
              "    </tr>\n",
              "    <tr>\n",
              "      <th>45242</th>\n",
              "      <td>https://www.zomato.com/bangalore/the-nest-the-...</td>\n",
              "      <td>ITPL Main Road, KIADB Export Promotion Industr...</td>\n",
              "      <td>The Nest - The Den Bengaluru</td>\n",
              "      <td>ITPL Main Road, Whitefield</td>\n",
              "      <td>Finger Food, North Indian, Continental</td>\n",
              "      <td>[('Rated 5.0', 'RATED\\n  Great ambience , look...</td>\n",
              "      <td>[]</td>\n",
              "    </tr>\n",
              "  </tbody>\n",
              "</table>\n",
              "<p>45243 rows × 7 columns</p>\n",
              "</div>"
            ],
            "text/plain": [
              "                                                     url  ... menu_item\n",
              "0      https://www.zomato.com/bangalore/jalsa-banasha...  ...        []\n",
              "1      https://www.zomato.com/bangalore/spice-elephan...  ...        []\n",
              "2      https://www.zomato.com/SanchurroBangalore?cont...  ...        []\n",
              "3      https://www.zomato.com/bangalore/addhuri-udupi...  ...        []\n",
              "4      https://www.zomato.com/bangalore/grand-village...  ...        []\n",
              "...                                                  ...  ...       ...\n",
              "45238  https://www.zomato.com/bangalore/topsy-turvey-...  ...        []\n",
              "45239  https://www.zomato.com/bangalore/bhagini-2-whi...  ...        []\n",
              "45240  https://www.zomato.com/bangalore/best-brews-fo...  ...        []\n",
              "45241  https://www.zomato.com/bangalore/chime-sherato...  ...        []\n",
              "45242  https://www.zomato.com/bangalore/the-nest-the-...  ...        []\n",
              "\n",
              "[45243 rows x 7 columns]"
            ]
          },
          "metadata": {},
          "execution_count": 51
        }
      ]
    },
    {
      "cell_type": "code",
      "metadata": {
        "id": "9QXxrsellx7G",
        "colab": {
          "base_uri": "https://localhost:8080/"
        },
        "outputId": "62fe3dc5-5cda-49f9-830a-cd33812a0b65"
      },
      "source": [
        "tp_cat.isnull().sum()"
      ],
      "execution_count": null,
      "outputs": [
        {
          "output_type": "execute_result",
          "data": {
            "text/plain": [
              "online_order    0\n",
              "book_table      0\n",
              "cus_type        0\n",
              "Res_Type        0\n",
              "Area            0\n",
              "dtype: int64"
            ]
          },
          "metadata": {},
          "execution_count": 52
        }
      ]
    },
    {
      "cell_type": "code",
      "metadata": {
        "id": "xi0r4X5aip3V",
        "colab": {
          "base_uri": "https://localhost:8080/"
        },
        "outputId": "3ba3e684-92d9-4340-cabf-45aec04a51e2"
      },
      "source": [
        "tp_num.isnull().sum()"
      ],
      "execution_count": null,
      "outputs": [
        {
          "output_type": "execute_result",
          "data": {
            "text/plain": [
              "rate           0\n",
              "votes          0\n",
              "Approx_cost    0\n",
              "dtype: int64"
            ]
          },
          "metadata": {},
          "execution_count": 53
        }
      ]
    },
    {
      "cell_type": "code",
      "metadata": {
        "id": "OOp5oN1wiqBL",
        "colab": {
          "base_uri": "https://localhost:8080/"
        },
        "outputId": "201e2691-639c-4f27-fa05-dfe5798acab3"
      },
      "source": [
        "tp_string.isnull().sum()"
      ],
      "execution_count": null,
      "outputs": [
        {
          "output_type": "execute_result",
          "data": {
            "text/plain": [
              "url             0\n",
              "address         0\n",
              "name            0\n",
              "location        0\n",
              "cuisines        0\n",
              "reviews_list    0\n",
              "menu_item       0\n",
              "dtype: int64"
            ]
          },
          "metadata": {},
          "execution_count": 54
        }
      ]
    }
  ]
}