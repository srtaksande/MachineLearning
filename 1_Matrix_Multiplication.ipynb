{
 "cells": [
  {
   "cell_type": "code",
   "execution_count": 1,
   "id": "d5892309",
   "metadata": {},
   "outputs": [],
   "source": [
    "import numpy as np"
   ]
  },
  {
   "cell_type": "code",
   "execution_count": 2,
   "id": "8d207dd6",
   "metadata": {},
   "outputs": [],
   "source": [
    "a = np.array([[1,2,3],[2,7,8]])\n",
    "b = np.array([[1,3],[9,8],[2,6]])"
   ]
  },
  {
   "cell_type": "code",
   "execution_count": 3,
   "id": "cbe799c7",
   "metadata": {},
   "outputs": [
    {
     "data": {
      "text/plain": [
       "array([[ 25,  37],\n",
       "       [ 81, 110]])"
      ]
     },
     "execution_count": 3,
     "metadata": {},
     "output_type": "execute_result"
    }
   ],
   "source": [
    "result = np.dot(a,b)\n",
    "result"
   ]
  }
 ],
 "metadata": {
  "kernelspec": {
   "display_name": "Python 3 (ipykernel)",
   "language": "python",
   "name": "python3"
  },
  "language_info": {
   "codemirror_mode": {
    "name": "ipython",
    "version": 3
   },
   "file_extension": ".py",
   "mimetype": "text/x-python",
   "name": "python",
   "nbconvert_exporter": "python",
   "pygments_lexer": "ipython3",
   "version": "3.9.7"
  }
 },
 "nbformat": 4,
 "nbformat_minor": 5
}
